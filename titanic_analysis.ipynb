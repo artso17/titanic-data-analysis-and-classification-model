{
  "nbformat": 4,
  "nbformat_minor": 0,
  "metadata": {
    "colab": {
      "name": "titanic analysis.ipynb",
      "provenance": [],
      "collapsed_sections": [],
      "authorship_tag": "ABX9TyM0SW3YWhvbuKMEfsEMACIG",
      "include_colab_link": true
    },
    "kernelspec": {
      "name": "python3",
      "display_name": "Python 3"
    },
    "language_info": {
      "name": "python"
    }
  },
  "cells": [
    {
      "cell_type": "markdown",
      "metadata": {
        "id": "view-in-github",
        "colab_type": "text"
      },
      "source": [
        "<a href=\"https://colab.research.google.com/github/artso17/titanic-data-analysis-and-classification-model/blob/main/titanic_analysis.ipynb\" target=\"_parent\"><img src=\"https://colab.research.google.com/assets/colab-badge.svg\" alt=\"Open In Colab\"/></a>"
      ]
    },
    {
      "cell_type": "markdown",
      "source": [
        "# 1 Preparation\n"
      ],
      "metadata": {
        "id": "6b_ehU1j5kmT"
      }
    },
    {
      "cell_type": "markdown",
      "source": [
        "## 1.1 Load Libraries"
      ],
      "metadata": {
        "id": "cYES8f5JLHNd"
      }
    },
    {
      "cell_type": "code",
      "execution_count": 2,
      "metadata": {
        "id": "Gv2ZLNKZ2Jh5",
        "colab": {
          "base_uri": "https://localhost:8080/"
        },
        "outputId": "83def503-2821-4f5e-dad8-a742e2fa3863"
      },
      "outputs": [
        {
          "output_type": "stream",
          "name": "stdout",
          "text": [
            "Mounted at /content/drive/\n"
          ]
        }
      ],
      "source": [
        "import numpy as np\n",
        "import pandas as pd\n",
        "import matplotlib.pyplot as plt\n",
        "import seaborn as sns\n",
        "from sklearn.preprocessing import StandardScaler, OneHotEncoder\n",
        "from sklearn.compose import ColumnTransformer\n",
        "from sklearn.model_selection import cross_validate,GridSearchCV\n",
        "from sklearn.neighbors import KNeighborsClassifier\n",
        "from sklearn.linear_model import LogisticRegression\n",
        "from sklearn.ensemble import RandomForestClassifier\n",
        "from sklearn.svm import SVC\n",
        "from sklearn.neural_network import MLPClassifier\n",
        "from xgboost import XGBClassifier\n",
        "from lightgbm import LGBMClassifier\n",
        "from sklearn.pipeline import Pipeline\n",
        "from sklearn.metrics import classification_report, accuracy_score,f1_score,confusion_matrix\n",
        "from google.colab import drive\n",
        "\n",
        "sns.set_style('whitegrid')\n",
        "np.random.seed(1)\n",
        "\n",
        "drive.mount('/content/drive/')"
      ]
    },
    {
      "cell_type": "markdown",
      "source": [
        "## 1.2 Load Dataset\n"
      ],
      "metadata": {
        "id": "1Mp3AmPbDQxn"
      }
    },
    {
      "cell_type": "code",
      "source": [
        "df_train=pd.read_csv('/content/drive/MyDrive/Datasets/titanic/train.csv')\n",
        "df_test=pd.read_csv('/content/drive/MyDrive/Datasets/titanic/test.csv')\n",
        "\n",
        "display(df_train.head())  \n",
        "display(df_test.head())"
      ],
      "metadata": {
        "id": "lNrX2Jsg4tWe",
        "colab": {
          "base_uri": "https://localhost:8080/",
          "height": 509
        },
        "outputId": "21d88f7c-8e82-4c54-adc6-3d5ada064c0a"
      },
      "execution_count": 3,
      "outputs": [
        {
          "output_type": "display_data",
          "data": {
            "text/plain": [
              "   PassengerId  Survived  Pclass  \\\n",
              "0            1         0       3   \n",
              "1            2         1       1   \n",
              "2            3         1       3   \n",
              "3            4         1       1   \n",
              "4            5         0       3   \n",
              "\n",
              "                                                Name     Sex   Age  SibSp  \\\n",
              "0                            Braund, Mr. Owen Harris    male  22.0      1   \n",
              "1  Cumings, Mrs. John Bradley (Florence Briggs Th...  female  38.0      1   \n",
              "2                             Heikkinen, Miss. Laina  female  26.0      0   \n",
              "3       Futrelle, Mrs. Jacques Heath (Lily May Peel)  female  35.0      1   \n",
              "4                           Allen, Mr. William Henry    male  35.0      0   \n",
              "\n",
              "   Parch            Ticket     Fare Cabin Embarked  \n",
              "0      0         A/5 21171   7.2500   NaN        S  \n",
              "1      0          PC 17599  71.2833   C85        C  \n",
              "2      0  STON/O2. 3101282   7.9250   NaN        S  \n",
              "3      0            113803  53.1000  C123        S  \n",
              "4      0            373450   8.0500   NaN        S  "
            ],
            "text/html": [
              "\n",
              "  <div id=\"df-0e90e953-dafb-4d77-bd72-2c2a227a5ca2\">\n",
              "    <div class=\"colab-df-container\">\n",
              "      <div>\n",
              "<style scoped>\n",
              "    .dataframe tbody tr th:only-of-type {\n",
              "        vertical-align: middle;\n",
              "    }\n",
              "\n",
              "    .dataframe tbody tr th {\n",
              "        vertical-align: top;\n",
              "    }\n",
              "\n",
              "    .dataframe thead th {\n",
              "        text-align: right;\n",
              "    }\n",
              "</style>\n",
              "<table border=\"1\" class=\"dataframe\">\n",
              "  <thead>\n",
              "    <tr style=\"text-align: right;\">\n",
              "      <th></th>\n",
              "      <th>PassengerId</th>\n",
              "      <th>Survived</th>\n",
              "      <th>Pclass</th>\n",
              "      <th>Name</th>\n",
              "      <th>Sex</th>\n",
              "      <th>Age</th>\n",
              "      <th>SibSp</th>\n",
              "      <th>Parch</th>\n",
              "      <th>Ticket</th>\n",
              "      <th>Fare</th>\n",
              "      <th>Cabin</th>\n",
              "      <th>Embarked</th>\n",
              "    </tr>\n",
              "  </thead>\n",
              "  <tbody>\n",
              "    <tr>\n",
              "      <th>0</th>\n",
              "      <td>1</td>\n",
              "      <td>0</td>\n",
              "      <td>3</td>\n",
              "      <td>Braund, Mr. Owen Harris</td>\n",
              "      <td>male</td>\n",
              "      <td>22.0</td>\n",
              "      <td>1</td>\n",
              "      <td>0</td>\n",
              "      <td>A/5 21171</td>\n",
              "      <td>7.2500</td>\n",
              "      <td>NaN</td>\n",
              "      <td>S</td>\n",
              "    </tr>\n",
              "    <tr>\n",
              "      <th>1</th>\n",
              "      <td>2</td>\n",
              "      <td>1</td>\n",
              "      <td>1</td>\n",
              "      <td>Cumings, Mrs. John Bradley (Florence Briggs Th...</td>\n",
              "      <td>female</td>\n",
              "      <td>38.0</td>\n",
              "      <td>1</td>\n",
              "      <td>0</td>\n",
              "      <td>PC 17599</td>\n",
              "      <td>71.2833</td>\n",
              "      <td>C85</td>\n",
              "      <td>C</td>\n",
              "    </tr>\n",
              "    <tr>\n",
              "      <th>2</th>\n",
              "      <td>3</td>\n",
              "      <td>1</td>\n",
              "      <td>3</td>\n",
              "      <td>Heikkinen, Miss. Laina</td>\n",
              "      <td>female</td>\n",
              "      <td>26.0</td>\n",
              "      <td>0</td>\n",
              "      <td>0</td>\n",
              "      <td>STON/O2. 3101282</td>\n",
              "      <td>7.9250</td>\n",
              "      <td>NaN</td>\n",
              "      <td>S</td>\n",
              "    </tr>\n",
              "    <tr>\n",
              "      <th>3</th>\n",
              "      <td>4</td>\n",
              "      <td>1</td>\n",
              "      <td>1</td>\n",
              "      <td>Futrelle, Mrs. Jacques Heath (Lily May Peel)</td>\n",
              "      <td>female</td>\n",
              "      <td>35.0</td>\n",
              "      <td>1</td>\n",
              "      <td>0</td>\n",
              "      <td>113803</td>\n",
              "      <td>53.1000</td>\n",
              "      <td>C123</td>\n",
              "      <td>S</td>\n",
              "    </tr>\n",
              "    <tr>\n",
              "      <th>4</th>\n",
              "      <td>5</td>\n",
              "      <td>0</td>\n",
              "      <td>3</td>\n",
              "      <td>Allen, Mr. William Henry</td>\n",
              "      <td>male</td>\n",
              "      <td>35.0</td>\n",
              "      <td>0</td>\n",
              "      <td>0</td>\n",
              "      <td>373450</td>\n",
              "      <td>8.0500</td>\n",
              "      <td>NaN</td>\n",
              "      <td>S</td>\n",
              "    </tr>\n",
              "  </tbody>\n",
              "</table>\n",
              "</div>\n",
              "      <button class=\"colab-df-convert\" onclick=\"convertToInteractive('df-0e90e953-dafb-4d77-bd72-2c2a227a5ca2')\"\n",
              "              title=\"Convert this dataframe to an interactive table.\"\n",
              "              style=\"display:none;\">\n",
              "        \n",
              "  <svg xmlns=\"http://www.w3.org/2000/svg\" height=\"24px\"viewBox=\"0 0 24 24\"\n",
              "       width=\"24px\">\n",
              "    <path d=\"M0 0h24v24H0V0z\" fill=\"none\"/>\n",
              "    <path d=\"M18.56 5.44l.94 2.06.94-2.06 2.06-.94-2.06-.94-.94-2.06-.94 2.06-2.06.94zm-11 1L8.5 8.5l.94-2.06 2.06-.94-2.06-.94L8.5 2.5l-.94 2.06-2.06.94zm10 10l.94 2.06.94-2.06 2.06-.94-2.06-.94-.94-2.06-.94 2.06-2.06.94z\"/><path d=\"M17.41 7.96l-1.37-1.37c-.4-.4-.92-.59-1.43-.59-.52 0-1.04.2-1.43.59L10.3 9.45l-7.72 7.72c-.78.78-.78 2.05 0 2.83L4 21.41c.39.39.9.59 1.41.59.51 0 1.02-.2 1.41-.59l7.78-7.78 2.81-2.81c.8-.78.8-2.07 0-2.86zM5.41 20L4 18.59l7.72-7.72 1.47 1.35L5.41 20z\"/>\n",
              "  </svg>\n",
              "      </button>\n",
              "      \n",
              "  <style>\n",
              "    .colab-df-container {\n",
              "      display:flex;\n",
              "      flex-wrap:wrap;\n",
              "      gap: 12px;\n",
              "    }\n",
              "\n",
              "    .colab-df-convert {\n",
              "      background-color: #E8F0FE;\n",
              "      border: none;\n",
              "      border-radius: 50%;\n",
              "      cursor: pointer;\n",
              "      display: none;\n",
              "      fill: #1967D2;\n",
              "      height: 32px;\n",
              "      padding: 0 0 0 0;\n",
              "      width: 32px;\n",
              "    }\n",
              "\n",
              "    .colab-df-convert:hover {\n",
              "      background-color: #E2EBFA;\n",
              "      box-shadow: 0px 1px 2px rgba(60, 64, 67, 0.3), 0px 1px 3px 1px rgba(60, 64, 67, 0.15);\n",
              "      fill: #174EA6;\n",
              "    }\n",
              "\n",
              "    [theme=dark] .colab-df-convert {\n",
              "      background-color: #3B4455;\n",
              "      fill: #D2E3FC;\n",
              "    }\n",
              "\n",
              "    [theme=dark] .colab-df-convert:hover {\n",
              "      background-color: #434B5C;\n",
              "      box-shadow: 0px 1px 3px 1px rgba(0, 0, 0, 0.15);\n",
              "      filter: drop-shadow(0px 1px 2px rgba(0, 0, 0, 0.3));\n",
              "      fill: #FFFFFF;\n",
              "    }\n",
              "  </style>\n",
              "\n",
              "      <script>\n",
              "        const buttonEl =\n",
              "          document.querySelector('#df-0e90e953-dafb-4d77-bd72-2c2a227a5ca2 button.colab-df-convert');\n",
              "        buttonEl.style.display =\n",
              "          google.colab.kernel.accessAllowed ? 'block' : 'none';\n",
              "\n",
              "        async function convertToInteractive(key) {\n",
              "          const element = document.querySelector('#df-0e90e953-dafb-4d77-bd72-2c2a227a5ca2');\n",
              "          const dataTable =\n",
              "            await google.colab.kernel.invokeFunction('convertToInteractive',\n",
              "                                                     [key], {});\n",
              "          if (!dataTable) return;\n",
              "\n",
              "          const docLinkHtml = 'Like what you see? Visit the ' +\n",
              "            '<a target=\"_blank\" href=https://colab.research.google.com/notebooks/data_table.ipynb>data table notebook</a>'\n",
              "            + ' to learn more about interactive tables.';\n",
              "          element.innerHTML = '';\n",
              "          dataTable['output_type'] = 'display_data';\n",
              "          await google.colab.output.renderOutput(dataTable, element);\n",
              "          const docLink = document.createElement('div');\n",
              "          docLink.innerHTML = docLinkHtml;\n",
              "          element.appendChild(docLink);\n",
              "        }\n",
              "      </script>\n",
              "    </div>\n",
              "  </div>\n",
              "  "
            ]
          },
          "metadata": {}
        },
        {
          "output_type": "display_data",
          "data": {
            "text/plain": [
              "   PassengerId  Pclass                                          Name     Sex  \\\n",
              "0          892       3                              Kelly, Mr. James    male   \n",
              "1          893       3              Wilkes, Mrs. James (Ellen Needs)  female   \n",
              "2          894       2                     Myles, Mr. Thomas Francis    male   \n",
              "3          895       3                              Wirz, Mr. Albert    male   \n",
              "4          896       3  Hirvonen, Mrs. Alexander (Helga E Lindqvist)  female   \n",
              "\n",
              "    Age  SibSp  Parch   Ticket     Fare Cabin Embarked  \n",
              "0  34.5      0      0   330911   7.8292   NaN        Q  \n",
              "1  47.0      1      0   363272   7.0000   NaN        S  \n",
              "2  62.0      0      0   240276   9.6875   NaN        Q  \n",
              "3  27.0      0      0   315154   8.6625   NaN        S  \n",
              "4  22.0      1      1  3101298  12.2875   NaN        S  "
            ],
            "text/html": [
              "\n",
              "  <div id=\"df-351c0f74-41b5-4ab9-b5f2-c93332dd364f\">\n",
              "    <div class=\"colab-df-container\">\n",
              "      <div>\n",
              "<style scoped>\n",
              "    .dataframe tbody tr th:only-of-type {\n",
              "        vertical-align: middle;\n",
              "    }\n",
              "\n",
              "    .dataframe tbody tr th {\n",
              "        vertical-align: top;\n",
              "    }\n",
              "\n",
              "    .dataframe thead th {\n",
              "        text-align: right;\n",
              "    }\n",
              "</style>\n",
              "<table border=\"1\" class=\"dataframe\">\n",
              "  <thead>\n",
              "    <tr style=\"text-align: right;\">\n",
              "      <th></th>\n",
              "      <th>PassengerId</th>\n",
              "      <th>Pclass</th>\n",
              "      <th>Name</th>\n",
              "      <th>Sex</th>\n",
              "      <th>Age</th>\n",
              "      <th>SibSp</th>\n",
              "      <th>Parch</th>\n",
              "      <th>Ticket</th>\n",
              "      <th>Fare</th>\n",
              "      <th>Cabin</th>\n",
              "      <th>Embarked</th>\n",
              "    </tr>\n",
              "  </thead>\n",
              "  <tbody>\n",
              "    <tr>\n",
              "      <th>0</th>\n",
              "      <td>892</td>\n",
              "      <td>3</td>\n",
              "      <td>Kelly, Mr. James</td>\n",
              "      <td>male</td>\n",
              "      <td>34.5</td>\n",
              "      <td>0</td>\n",
              "      <td>0</td>\n",
              "      <td>330911</td>\n",
              "      <td>7.8292</td>\n",
              "      <td>NaN</td>\n",
              "      <td>Q</td>\n",
              "    </tr>\n",
              "    <tr>\n",
              "      <th>1</th>\n",
              "      <td>893</td>\n",
              "      <td>3</td>\n",
              "      <td>Wilkes, Mrs. James (Ellen Needs)</td>\n",
              "      <td>female</td>\n",
              "      <td>47.0</td>\n",
              "      <td>1</td>\n",
              "      <td>0</td>\n",
              "      <td>363272</td>\n",
              "      <td>7.0000</td>\n",
              "      <td>NaN</td>\n",
              "      <td>S</td>\n",
              "    </tr>\n",
              "    <tr>\n",
              "      <th>2</th>\n",
              "      <td>894</td>\n",
              "      <td>2</td>\n",
              "      <td>Myles, Mr. Thomas Francis</td>\n",
              "      <td>male</td>\n",
              "      <td>62.0</td>\n",
              "      <td>0</td>\n",
              "      <td>0</td>\n",
              "      <td>240276</td>\n",
              "      <td>9.6875</td>\n",
              "      <td>NaN</td>\n",
              "      <td>Q</td>\n",
              "    </tr>\n",
              "    <tr>\n",
              "      <th>3</th>\n",
              "      <td>895</td>\n",
              "      <td>3</td>\n",
              "      <td>Wirz, Mr. Albert</td>\n",
              "      <td>male</td>\n",
              "      <td>27.0</td>\n",
              "      <td>0</td>\n",
              "      <td>0</td>\n",
              "      <td>315154</td>\n",
              "      <td>8.6625</td>\n",
              "      <td>NaN</td>\n",
              "      <td>S</td>\n",
              "    </tr>\n",
              "    <tr>\n",
              "      <th>4</th>\n",
              "      <td>896</td>\n",
              "      <td>3</td>\n",
              "      <td>Hirvonen, Mrs. Alexander (Helga E Lindqvist)</td>\n",
              "      <td>female</td>\n",
              "      <td>22.0</td>\n",
              "      <td>1</td>\n",
              "      <td>1</td>\n",
              "      <td>3101298</td>\n",
              "      <td>12.2875</td>\n",
              "      <td>NaN</td>\n",
              "      <td>S</td>\n",
              "    </tr>\n",
              "  </tbody>\n",
              "</table>\n",
              "</div>\n",
              "      <button class=\"colab-df-convert\" onclick=\"convertToInteractive('df-351c0f74-41b5-4ab9-b5f2-c93332dd364f')\"\n",
              "              title=\"Convert this dataframe to an interactive table.\"\n",
              "              style=\"display:none;\">\n",
              "        \n",
              "  <svg xmlns=\"http://www.w3.org/2000/svg\" height=\"24px\"viewBox=\"0 0 24 24\"\n",
              "       width=\"24px\">\n",
              "    <path d=\"M0 0h24v24H0V0z\" fill=\"none\"/>\n",
              "    <path d=\"M18.56 5.44l.94 2.06.94-2.06 2.06-.94-2.06-.94-.94-2.06-.94 2.06-2.06.94zm-11 1L8.5 8.5l.94-2.06 2.06-.94-2.06-.94L8.5 2.5l-.94 2.06-2.06.94zm10 10l.94 2.06.94-2.06 2.06-.94-2.06-.94-.94-2.06-.94 2.06-2.06.94z\"/><path d=\"M17.41 7.96l-1.37-1.37c-.4-.4-.92-.59-1.43-.59-.52 0-1.04.2-1.43.59L10.3 9.45l-7.72 7.72c-.78.78-.78 2.05 0 2.83L4 21.41c.39.39.9.59 1.41.59.51 0 1.02-.2 1.41-.59l7.78-7.78 2.81-2.81c.8-.78.8-2.07 0-2.86zM5.41 20L4 18.59l7.72-7.72 1.47 1.35L5.41 20z\"/>\n",
              "  </svg>\n",
              "      </button>\n",
              "      \n",
              "  <style>\n",
              "    .colab-df-container {\n",
              "      display:flex;\n",
              "      flex-wrap:wrap;\n",
              "      gap: 12px;\n",
              "    }\n",
              "\n",
              "    .colab-df-convert {\n",
              "      background-color: #E8F0FE;\n",
              "      border: none;\n",
              "      border-radius: 50%;\n",
              "      cursor: pointer;\n",
              "      display: none;\n",
              "      fill: #1967D2;\n",
              "      height: 32px;\n",
              "      padding: 0 0 0 0;\n",
              "      width: 32px;\n",
              "    }\n",
              "\n",
              "    .colab-df-convert:hover {\n",
              "      background-color: #E2EBFA;\n",
              "      box-shadow: 0px 1px 2px rgba(60, 64, 67, 0.3), 0px 1px 3px 1px rgba(60, 64, 67, 0.15);\n",
              "      fill: #174EA6;\n",
              "    }\n",
              "\n",
              "    [theme=dark] .colab-df-convert {\n",
              "      background-color: #3B4455;\n",
              "      fill: #D2E3FC;\n",
              "    }\n",
              "\n",
              "    [theme=dark] .colab-df-convert:hover {\n",
              "      background-color: #434B5C;\n",
              "      box-shadow: 0px 1px 3px 1px rgba(0, 0, 0, 0.15);\n",
              "      filter: drop-shadow(0px 1px 2px rgba(0, 0, 0, 0.3));\n",
              "      fill: #FFFFFF;\n",
              "    }\n",
              "  </style>\n",
              "\n",
              "      <script>\n",
              "        const buttonEl =\n",
              "          document.querySelector('#df-351c0f74-41b5-4ab9-b5f2-c93332dd364f button.colab-df-convert');\n",
              "        buttonEl.style.display =\n",
              "          google.colab.kernel.accessAllowed ? 'block' : 'none';\n",
              "\n",
              "        async function convertToInteractive(key) {\n",
              "          const element = document.querySelector('#df-351c0f74-41b5-4ab9-b5f2-c93332dd364f');\n",
              "          const dataTable =\n",
              "            await google.colab.kernel.invokeFunction('convertToInteractive',\n",
              "                                                     [key], {});\n",
              "          if (!dataTable) return;\n",
              "\n",
              "          const docLinkHtml = 'Like what you see? Visit the ' +\n",
              "            '<a target=\"_blank\" href=https://colab.research.google.com/notebooks/data_table.ipynb>data table notebook</a>'\n",
              "            + ' to learn more about interactive tables.';\n",
              "          element.innerHTML = '';\n",
              "          dataTable['output_type'] = 'display_data';\n",
              "          await google.colab.output.renderOutput(dataTable, element);\n",
              "          const docLink = document.createElement('div');\n",
              "          docLink.innerHTML = docLinkHtml;\n",
              "          element.appendChild(docLink);\n",
              "        }\n",
              "      </script>\n",
              "    </div>\n",
              "  </div>\n",
              "  "
            ]
          },
          "metadata": {}
        }
      ]
    },
    {
      "cell_type": "markdown",
      "source": [
        "## 1.3 Checking Null values\n",
        "<div id='1.3'></div>"
      ],
      "metadata": {
        "id": "93SUSWcHD8Er"
      }
    },
    {
      "cell_type": "code",
      "source": [
        "sumnull=pd.concat([df_train.isna().sum().to_frame('total_train'),df_test.isna().sum().to_frame('total_test')],axis=1).style.background_gradient('summer_r')\n",
        "meannull=pd.concat([df_train.isna().mean().to_frame('mean_train'),df_test.isna().mean().to_frame('mean_test')],axis=1).style.background_gradient('summer_r')\n",
        "\n",
        "display(sumnull)\n",
        "print('\\n')\n",
        "meannull"
      ],
      "metadata": {
        "colab": {
          "base_uri": "https://localhost:8080/",
          "height": 869
        },
        "id": "3CqudFlLJ0fF",
        "outputId": "18c5c386-ef0e-4dd3-e0d1-361a4e421dad"
      },
      "execution_count": 4,
      "outputs": [
        {
          "output_type": "display_data",
          "data": {
            "text/plain": [
              "<pandas.io.formats.style.Styler at 0x7f520f464a10>"
            ],
            "text/html": [
              "<style type=\"text/css\">\n",
              "#T_356e4_row0_col0, #T_356e4_row0_col1, #T_356e4_row1_col0, #T_356e4_row2_col0, #T_356e4_row2_col1, #T_356e4_row3_col0, #T_356e4_row3_col1, #T_356e4_row4_col0, #T_356e4_row4_col1, #T_356e4_row6_col0, #T_356e4_row6_col1, #T_356e4_row7_col0, #T_356e4_row7_col1, #T_356e4_row8_col0, #T_356e4_row8_col1, #T_356e4_row9_col0, #T_356e4_row9_col1, #T_356e4_row11_col0, #T_356e4_row11_col1 {\n",
              "  background-color: #ffff66;\n",
              "  color: #000000;\n",
              "}\n",
              "#T_356e4_row1_col1 {\n",
              "  background-color: #000000;\n",
              "  color: #f1f1f1;\n",
              "}\n",
              "#T_356e4_row5_col0 {\n",
              "  background-color: #bede66;\n",
              "  color: #000000;\n",
              "}\n",
              "#T_356e4_row5_col1 {\n",
              "  background-color: #bcde66;\n",
              "  color: #000000;\n",
              "}\n",
              "#T_356e4_row10_col0, #T_356e4_row10_col1 {\n",
              "  background-color: #008066;\n",
              "  color: #f1f1f1;\n",
              "}\n",
              "</style>\n",
              "<table id=\"T_356e4_\" class=\"dataframe\">\n",
              "  <thead>\n",
              "    <tr>\n",
              "      <th class=\"blank level0\" >&nbsp;</th>\n",
              "      <th class=\"col_heading level0 col0\" >total_train</th>\n",
              "      <th class=\"col_heading level0 col1\" >total_test</th>\n",
              "    </tr>\n",
              "  </thead>\n",
              "  <tbody>\n",
              "    <tr>\n",
              "      <th id=\"T_356e4_level0_row0\" class=\"row_heading level0 row0\" >PassengerId</th>\n",
              "      <td id=\"T_356e4_row0_col0\" class=\"data row0 col0\" >0</td>\n",
              "      <td id=\"T_356e4_row0_col1\" class=\"data row0 col1\" >0.000000</td>\n",
              "    </tr>\n",
              "    <tr>\n",
              "      <th id=\"T_356e4_level0_row1\" class=\"row_heading level0 row1\" >Survived</th>\n",
              "      <td id=\"T_356e4_row1_col0\" class=\"data row1 col0\" >0</td>\n",
              "      <td id=\"T_356e4_row1_col1\" class=\"data row1 col1\" >nan</td>\n",
              "    </tr>\n",
              "    <tr>\n",
              "      <th id=\"T_356e4_level0_row2\" class=\"row_heading level0 row2\" >Pclass</th>\n",
              "      <td id=\"T_356e4_row2_col0\" class=\"data row2 col0\" >0</td>\n",
              "      <td id=\"T_356e4_row2_col1\" class=\"data row2 col1\" >0.000000</td>\n",
              "    </tr>\n",
              "    <tr>\n",
              "      <th id=\"T_356e4_level0_row3\" class=\"row_heading level0 row3\" >Name</th>\n",
              "      <td id=\"T_356e4_row3_col0\" class=\"data row3 col0\" >0</td>\n",
              "      <td id=\"T_356e4_row3_col1\" class=\"data row3 col1\" >0.000000</td>\n",
              "    </tr>\n",
              "    <tr>\n",
              "      <th id=\"T_356e4_level0_row4\" class=\"row_heading level0 row4\" >Sex</th>\n",
              "      <td id=\"T_356e4_row4_col0\" class=\"data row4 col0\" >0</td>\n",
              "      <td id=\"T_356e4_row4_col1\" class=\"data row4 col1\" >0.000000</td>\n",
              "    </tr>\n",
              "    <tr>\n",
              "      <th id=\"T_356e4_level0_row5\" class=\"row_heading level0 row5\" >Age</th>\n",
              "      <td id=\"T_356e4_row5_col0\" class=\"data row5 col0\" >177</td>\n",
              "      <td id=\"T_356e4_row5_col1\" class=\"data row5 col1\" >86.000000</td>\n",
              "    </tr>\n",
              "    <tr>\n",
              "      <th id=\"T_356e4_level0_row6\" class=\"row_heading level0 row6\" >SibSp</th>\n",
              "      <td id=\"T_356e4_row6_col0\" class=\"data row6 col0\" >0</td>\n",
              "      <td id=\"T_356e4_row6_col1\" class=\"data row6 col1\" >0.000000</td>\n",
              "    </tr>\n",
              "    <tr>\n",
              "      <th id=\"T_356e4_level0_row7\" class=\"row_heading level0 row7\" >Parch</th>\n",
              "      <td id=\"T_356e4_row7_col0\" class=\"data row7 col0\" >0</td>\n",
              "      <td id=\"T_356e4_row7_col1\" class=\"data row7 col1\" >0.000000</td>\n",
              "    </tr>\n",
              "    <tr>\n",
              "      <th id=\"T_356e4_level0_row8\" class=\"row_heading level0 row8\" >Ticket</th>\n",
              "      <td id=\"T_356e4_row8_col0\" class=\"data row8 col0\" >0</td>\n",
              "      <td id=\"T_356e4_row8_col1\" class=\"data row8 col1\" >0.000000</td>\n",
              "    </tr>\n",
              "    <tr>\n",
              "      <th id=\"T_356e4_level0_row9\" class=\"row_heading level0 row9\" >Fare</th>\n",
              "      <td id=\"T_356e4_row9_col0\" class=\"data row9 col0\" >0</td>\n",
              "      <td id=\"T_356e4_row9_col1\" class=\"data row9 col1\" >1.000000</td>\n",
              "    </tr>\n",
              "    <tr>\n",
              "      <th id=\"T_356e4_level0_row10\" class=\"row_heading level0 row10\" >Cabin</th>\n",
              "      <td id=\"T_356e4_row10_col0\" class=\"data row10 col0\" >687</td>\n",
              "      <td id=\"T_356e4_row10_col1\" class=\"data row10 col1\" >327.000000</td>\n",
              "    </tr>\n",
              "    <tr>\n",
              "      <th id=\"T_356e4_level0_row11\" class=\"row_heading level0 row11\" >Embarked</th>\n",
              "      <td id=\"T_356e4_row11_col0\" class=\"data row11 col0\" >2</td>\n",
              "      <td id=\"T_356e4_row11_col1\" class=\"data row11 col1\" >0.000000</td>\n",
              "    </tr>\n",
              "  </tbody>\n",
              "</table>\n"
            ]
          },
          "metadata": {}
        },
        {
          "output_type": "stream",
          "name": "stdout",
          "text": [
            "\n",
            "\n"
          ]
        },
        {
          "output_type": "execute_result",
          "data": {
            "text/plain": [
              "<pandas.io.formats.style.Styler at 0x7f5203d979d0>"
            ],
            "text/html": [
              "<style type=\"text/css\">\n",
              "#T_52576_row0_col0, #T_52576_row0_col1, #T_52576_row1_col0, #T_52576_row2_col0, #T_52576_row2_col1, #T_52576_row3_col0, #T_52576_row3_col1, #T_52576_row4_col0, #T_52576_row4_col1, #T_52576_row6_col0, #T_52576_row6_col1, #T_52576_row7_col0, #T_52576_row7_col1, #T_52576_row8_col0, #T_52576_row8_col1, #T_52576_row9_col0, #T_52576_row9_col1, #T_52576_row11_col0, #T_52576_row11_col1 {\n",
              "  background-color: #ffff66;\n",
              "  color: #000000;\n",
              "}\n",
              "#T_52576_row1_col1 {\n",
              "  background-color: #000000;\n",
              "  color: #f1f1f1;\n",
              "}\n",
              "#T_52576_row5_col0 {\n",
              "  background-color: #bede66;\n",
              "  color: #000000;\n",
              "}\n",
              "#T_52576_row5_col1 {\n",
              "  background-color: #bcde66;\n",
              "  color: #000000;\n",
              "}\n",
              "#T_52576_row10_col0, #T_52576_row10_col1 {\n",
              "  background-color: #008066;\n",
              "  color: #f1f1f1;\n",
              "}\n",
              "</style>\n",
              "<table id=\"T_52576_\" class=\"dataframe\">\n",
              "  <thead>\n",
              "    <tr>\n",
              "      <th class=\"blank level0\" >&nbsp;</th>\n",
              "      <th class=\"col_heading level0 col0\" >mean_train</th>\n",
              "      <th class=\"col_heading level0 col1\" >mean_test</th>\n",
              "    </tr>\n",
              "  </thead>\n",
              "  <tbody>\n",
              "    <tr>\n",
              "      <th id=\"T_52576_level0_row0\" class=\"row_heading level0 row0\" >PassengerId</th>\n",
              "      <td id=\"T_52576_row0_col0\" class=\"data row0 col0\" >0.000000</td>\n",
              "      <td id=\"T_52576_row0_col1\" class=\"data row0 col1\" >0.000000</td>\n",
              "    </tr>\n",
              "    <tr>\n",
              "      <th id=\"T_52576_level0_row1\" class=\"row_heading level0 row1\" >Survived</th>\n",
              "      <td id=\"T_52576_row1_col0\" class=\"data row1 col0\" >0.000000</td>\n",
              "      <td id=\"T_52576_row1_col1\" class=\"data row1 col1\" >nan</td>\n",
              "    </tr>\n",
              "    <tr>\n",
              "      <th id=\"T_52576_level0_row2\" class=\"row_heading level0 row2\" >Pclass</th>\n",
              "      <td id=\"T_52576_row2_col0\" class=\"data row2 col0\" >0.000000</td>\n",
              "      <td id=\"T_52576_row2_col1\" class=\"data row2 col1\" >0.000000</td>\n",
              "    </tr>\n",
              "    <tr>\n",
              "      <th id=\"T_52576_level0_row3\" class=\"row_heading level0 row3\" >Name</th>\n",
              "      <td id=\"T_52576_row3_col0\" class=\"data row3 col0\" >0.000000</td>\n",
              "      <td id=\"T_52576_row3_col1\" class=\"data row3 col1\" >0.000000</td>\n",
              "    </tr>\n",
              "    <tr>\n",
              "      <th id=\"T_52576_level0_row4\" class=\"row_heading level0 row4\" >Sex</th>\n",
              "      <td id=\"T_52576_row4_col0\" class=\"data row4 col0\" >0.000000</td>\n",
              "      <td id=\"T_52576_row4_col1\" class=\"data row4 col1\" >0.000000</td>\n",
              "    </tr>\n",
              "    <tr>\n",
              "      <th id=\"T_52576_level0_row5\" class=\"row_heading level0 row5\" >Age</th>\n",
              "      <td id=\"T_52576_row5_col0\" class=\"data row5 col0\" >0.198653</td>\n",
              "      <td id=\"T_52576_row5_col1\" class=\"data row5 col1\" >0.205742</td>\n",
              "    </tr>\n",
              "    <tr>\n",
              "      <th id=\"T_52576_level0_row6\" class=\"row_heading level0 row6\" >SibSp</th>\n",
              "      <td id=\"T_52576_row6_col0\" class=\"data row6 col0\" >0.000000</td>\n",
              "      <td id=\"T_52576_row6_col1\" class=\"data row6 col1\" >0.000000</td>\n",
              "    </tr>\n",
              "    <tr>\n",
              "      <th id=\"T_52576_level0_row7\" class=\"row_heading level0 row7\" >Parch</th>\n",
              "      <td id=\"T_52576_row7_col0\" class=\"data row7 col0\" >0.000000</td>\n",
              "      <td id=\"T_52576_row7_col1\" class=\"data row7 col1\" >0.000000</td>\n",
              "    </tr>\n",
              "    <tr>\n",
              "      <th id=\"T_52576_level0_row8\" class=\"row_heading level0 row8\" >Ticket</th>\n",
              "      <td id=\"T_52576_row8_col0\" class=\"data row8 col0\" >0.000000</td>\n",
              "      <td id=\"T_52576_row8_col1\" class=\"data row8 col1\" >0.000000</td>\n",
              "    </tr>\n",
              "    <tr>\n",
              "      <th id=\"T_52576_level0_row9\" class=\"row_heading level0 row9\" >Fare</th>\n",
              "      <td id=\"T_52576_row9_col0\" class=\"data row9 col0\" >0.000000</td>\n",
              "      <td id=\"T_52576_row9_col1\" class=\"data row9 col1\" >0.002392</td>\n",
              "    </tr>\n",
              "    <tr>\n",
              "      <th id=\"T_52576_level0_row10\" class=\"row_heading level0 row10\" >Cabin</th>\n",
              "      <td id=\"T_52576_row10_col0\" class=\"data row10 col0\" >0.771044</td>\n",
              "      <td id=\"T_52576_row10_col1\" class=\"data row10 col1\" >0.782297</td>\n",
              "    </tr>\n",
              "    <tr>\n",
              "      <th id=\"T_52576_level0_row11\" class=\"row_heading level0 row11\" >Embarked</th>\n",
              "      <td id=\"T_52576_row11_col0\" class=\"data row11 col0\" >0.002245</td>\n",
              "      <td id=\"T_52576_row11_col1\" class=\"data row11 col1\" >0.000000</td>\n",
              "    </tr>\n",
              "  </tbody>\n",
              "</table>\n"
            ]
          },
          "metadata": {},
          "execution_count": 4
        }
      ]
    },
    {
      "cell_type": "markdown",
      "source": [
        "We can see that: \n",
        "\n",
        "- `Age` variable has 19.9% and 20.6% Null values in train and test data.\n",
        "- `Fare` variable has 0.2% or 1 Null value in test data.\n",
        "- `Cabin` variable has a lot with 77.1% and 78.2% Null values in both train and test data.\n",
        "- `Embarked` Variable has 0.2% or 2 Null values in train data.\n",
        "\n",
        "We need to analyze deeper to determine whether to drop or to do some imputation.\n"
      ],
      "metadata": {
        "id": "J0ZY2a4Zg-KS"
      }
    },
    {
      "cell_type": "markdown",
      "source": [
        "## 1.4 Checking Duplicate Data"
      ],
      "metadata": {
        "id": "7ifW2vjyEMKX"
      }
    },
    {
      "cell_type": "code",
      "source": [
        "print(f'The Train data has {df_train.duplicated().sum()} duplicated ')\n",
        "print(f'The Test data has {df_test.duplicated().sum()} duplicated')"
      ],
      "metadata": {
        "colab": {
          "base_uri": "https://localhost:8080/"
        },
        "id": "v_RcamDElLbC",
        "outputId": "846a58fb-2ef9-4eb0-9949-21d7a96e8dda"
      },
      "execution_count": 5,
      "outputs": [
        {
          "output_type": "stream",
          "name": "stdout",
          "text": [
            "The Train data has 0 duplicated \n",
            "The Test data has 0 duplicated\n"
          ]
        }
      ]
    },
    {
      "cell_type": "markdown",
      "source": [
        "As we can see train and test data has no duplicated value. Looks good!"
      ],
      "metadata": {
        "id": "0I1SuKqtmP1f"
      }
    },
    {
      "cell_type": "markdown",
      "source": [
        "## 1.5 Checking Dataset Information"
      ],
      "metadata": {
        "id": "AGi4XpVWEVUp"
      }
    },
    {
      "cell_type": "code",
      "source": [
        "df_train.info()"
      ],
      "metadata": {
        "colab": {
          "base_uri": "https://localhost:8080/"
        },
        "id": "WygyceSPmfCm",
        "outputId": "3d7d3172-8899-4a01-9c19-2a9a2e87bca7"
      },
      "execution_count": 6,
      "outputs": [
        {
          "output_type": "stream",
          "name": "stdout",
          "text": [
            "<class 'pandas.core.frame.DataFrame'>\n",
            "RangeIndex: 891 entries, 0 to 890\n",
            "Data columns (total 12 columns):\n",
            " #   Column       Non-Null Count  Dtype  \n",
            "---  ------       --------------  -----  \n",
            " 0   PassengerId  891 non-null    int64  \n",
            " 1   Survived     891 non-null    int64  \n",
            " 2   Pclass       891 non-null    int64  \n",
            " 3   Name         891 non-null    object \n",
            " 4   Sex          891 non-null    object \n",
            " 5   Age          714 non-null    float64\n",
            " 6   SibSp        891 non-null    int64  \n",
            " 7   Parch        891 non-null    int64  \n",
            " 8   Ticket       891 non-null    object \n",
            " 9   Fare         891 non-null    float64\n",
            " 10  Cabin        204 non-null    object \n",
            " 11  Embarked     889 non-null    object \n",
            "dtypes: float64(2), int64(5), object(5)\n",
            "memory usage: 83.7+ KB\n"
          ]
        }
      ]
    },
    {
      "cell_type": "markdown",
      "source": [
        "The information we get from above is:\n",
        "The data has 12 variables and 891 records. The type of variables are as follows:\n",
        "\n",
        "**Numerical**\n",
        "- Discrete\n",
        "  1. SibSp\n",
        "  2. Parch\n",
        "\n",
        "- Continous\n",
        "  1. Age\n",
        "  2. Fare\n",
        "\n",
        "**Categorical**\n",
        "- Nominal\n",
        "  1. Survived (Target Variable)\n",
        "  3. Sex\n",
        "  4. Embarked\n",
        "\n",
        "- Ordinal\n",
        "  1. Pclass\n",
        "\n",
        "**Others**\n",
        "- Text\n",
        "  1. Name\n",
        "  2. Ticket\n",
        "\n",
        "- Id\n",
        "  1. PassengerId"
      ],
      "metadata": {
        "id": "bFk6vJsDmrBD"
      }
    },
    {
      "cell_type": "markdown",
      "source": [
        "# 2 Exploratory Data Analysis\n"
      ],
      "metadata": {
        "id": "A310q1edEiDC"
      }
    },
    {
      "cell_type": "markdown",
      "source": [
        "Let's group our data into variable types and make 2 functions to visualize numerical and categorical data."
      ],
      "metadata": {
        "id": "ewtaa_62qCzF"
      }
    },
    {
      "cell_type": "code",
      "source": [
        "num_var=['SibSp','Parch','Age','Fare']\n",
        "cat_var=['Sex','Embarked','Pclass']\n",
        "target='Survived'"
      ],
      "metadata": {
        "id": "snkUHi54qbw3"
      },
      "execution_count": 7,
      "outputs": []
    },
    {
      "cell_type": "code",
      "source": [
        "def num_dist(data,var):\n",
        "  fig,ax=plt.subplots(1,2,figsize=(12,4))\n",
        "\n",
        "  sns.histplot(x=var,data=data,kde=True,ax=ax[0])\n",
        "  ax[0].set_title(f'{var} Distribution Histogram')\n",
        "\n",
        "  sns.boxplot(x=var,data=data,ax=ax[1])\n",
        "  ax[1].set_title(f'{var} Distribution Boxplot')\n",
        "\n",
        "def cat_dist(data,var):\n",
        "  fig,ax=plt.subplots(1,2,figsize=(12,5))\n",
        "\n",
        "  data[var].value_counts().plot(kind='pie',autopct='%1.1f%%',explode=[.05 for x in data[var].dropna().unique()],ax=ax[0],shadow=True)\n",
        "  ax[0].set_title(f'{var} Distribution Piechart')\n",
        "  ax[0].set_ylabel('')\n",
        "\n",
        "  count=sns.countplot(x=var,data=data,ax=ax[1])\n",
        "  for bar in count.patches:\n",
        "    count.annotate(format(bar.get_height()),\n",
        "                   (bar.get_x() + bar.get_width() / 2, bar.get_height()),\n",
        "                    ha='center', \n",
        "                    va='center',\n",
        "                    size=11, \n",
        "                    xytext=(0, 8),\n",
        "                    textcoords='offset points')\n",
        "  ax[1].set_title(f'{var} Distribution Barplot')\n"
      ],
      "metadata": {
        "id": "hmGXQRPoU6f9"
      },
      "execution_count": 8,
      "outputs": []
    },
    {
      "cell_type": "markdown",
      "source": [
        "## 2.1 Checking Target Distribution\n",
        "\n"
      ],
      "metadata": {
        "id": "LMrowDv8EvlB"
      }
    },
    {
      "cell_type": "code",
      "source": [
        "cat_dist(df_train,target)"
      ],
      "metadata": {
        "colab": {
          "base_uri": "https://localhost:8080/",
          "height": 350
        },
        "id": "LBQu9SwuZV3Q",
        "outputId": "f3873ac3-895f-4aae-d1ca-857fc1a5e505"
      },
      "execution_count": 9,
      "outputs": [
        {
          "output_type": "display_data",
          "data": {
            "text/plain": [
              "<Figure size 864x360 with 2 Axes>"
            ],
            "image/png": "[encoded data removed]"
          },
          "metadata": {}
        }
      ]
    },
    {
      "cell_type": "markdown",
      "source": [
        "Unfortunately, 61.6% or 549 passangers survived. What thing caused this accident? So, we will find out the thing by analyzing the data"
      ],
      "metadata": {
        "id": "t03YZdTbhGUG"
      }
    },
    {
      "cell_type": "markdown",
      "source": [
        "## 2.2 Checking Predictor Distribution"
      ],
      "metadata": {
        "id": "Xpo0ooDHFP61"
      }
    },
    {
      "cell_type": "markdown",
      "source": [
        "### 2.2.1 Numerical"
      ],
      "metadata": {
        "id": "EVkIEavUFhKO"
      }
    },
    {
      "cell_type": "code",
      "source": [
        "df_train[num_var].describe()"
      ],
      "metadata": {
        "colab": {
          "base_uri": "https://localhost:8080/",
          "height": 300
        },
        "id": "0fB3OuiI_SxW",
        "outputId": "1359d0b7-f309-4286-e1b0-2b0747e6cd3c"
      },
      "execution_count": 10,
      "outputs": [
        {
          "output_type": "execute_result",
          "data": {
            "text/plain": [
              "            SibSp       Parch         Age        Fare\n",
              "count  891.000000  891.000000  714.000000  891.000000\n",
              "mean     0.523008    0.381594   29.699118   32.204208\n",
              "std      1.102743    0.806057   14.526497   49.693429\n",
              "min      0.000000    0.000000    0.420000    0.000000\n",
              "25%      0.000000    0.000000   20.125000    7.910400\n",
              "50%      0.000000    0.000000   28.000000   14.454200\n",
              "75%      1.000000    0.000000   38.000000   31.000000\n",
              "max      8.000000    6.000000   80.000000  512.329200"
            ],
            "text/html": [
              "\n",
              "  <div id=\"df-c9410936-bb9b-4409-a41d-aaed69a57eec\">\n",
              "    <div class=\"colab-df-container\">\n",
              "      <div>\n",
              "<style scoped>\n",
              "    .dataframe tbody tr th:only-of-type {\n",
              "        vertical-align: middle;\n",
              "    }\n",
              "\n",
              "    .dataframe tbody tr th {\n",
              "        vertical-align: top;\n",
              "    }\n",
              "\n",
              "    .dataframe thead th {\n",
              "        text-align: right;\n",
              "    }\n",
              "</style>\n",
              "<table border=\"1\" class=\"dataframe\">\n",
              "  <thead>\n",
              "    <tr style=\"text-align: right;\">\n",
              "      <th></th>\n",
              "      <th>SibSp</th>\n",
              "      <th>Parch</th>\n",
              "      <th>Age</th>\n",
              "      <th>Fare</th>\n",
              "    </tr>\n",
              "  </thead>\n",
              "  <tbody>\n",
              "    <tr>\n",
              "      <th>count</th>\n",
              "      <td>891.000000</td>\n",
              "      <td>891.000000</td>\n",
              "      <td>714.000000</td>\n",
              "      <td>891.000000</td>\n",
              "    </tr>\n",
              "    <tr>\n",
              "      <th>mean</th>\n",
              "      <td>0.523008</td>\n",
              "      <td>0.381594</td>\n",
              "      <td>29.699118</td>\n",
              "      <td>32.204208</td>\n",
              "    </tr>\n",
              "    <tr>\n",
              "      <th>std</th>\n",
              "      <td>1.102743</td>\n",
              "      <td>0.806057</td>\n",
              "      <td>14.526497</td>\n",
              "      <td>49.693429</td>\n",
              "    </tr>\n",
              "    <tr>\n",
              "      <th>min</th>\n",
              "      <td>0.000000</td>\n",
              "      <td>0.000000</td>\n",
              "      <td>0.420000</td>\n",
              "      <td>0.000000</td>\n",
              "    </tr>\n",
              "    <tr>\n",
              "      <th>25%</th>\n",
              "      <td>0.000000</td>\n",
              "      <td>0.000000</td>\n",
              "      <td>20.125000</td>\n",
              "      <td>7.910400</td>\n",
              "    </tr>\n",
              "    <tr>\n",
              "      <th>50%</th>\n",
              "      <td>0.000000</td>\n",
              "      <td>0.000000</td>\n",
              "      <td>28.000000</td>\n",
              "      <td>14.454200</td>\n",
              "    </tr>\n",
              "    <tr>\n",
              "      <th>75%</th>\n",
              "      <td>1.000000</td>\n",
              "      <td>0.000000</td>\n",
              "      <td>38.000000</td>\n",
              "      <td>31.000000</td>\n",
              "    </tr>\n",
              "    <tr>\n",
              "      <th>max</th>\n",
              "      <td>8.000000</td>\n",
              "      <td>6.000000</td>\n",
              "      <td>80.000000</td>\n",
              "      <td>512.329200</td>\n",
              "    </tr>\n",
              "  </tbody>\n",
              "</table>\n",
              "</div>\n",
              "      <button class=\"colab-df-convert\" onclick=\"convertToInteractive('df-c9410936-bb9b-4409-a41d-aaed69a57eec')\"\n",
              "              title=\"Convert this dataframe to an interactive table.\"\n",
              "              style=\"display:none;\">\n",
              "        \n",
              "  <svg xmlns=\"http://www.w3.org/2000/svg\" height=\"24px\"viewBox=\"0 0 24 24\"\n",
              "       width=\"24px\">\n",
              "    <path d=\"M0 0h24v24H0V0z\" fill=\"none\"/>\n",
              "    <path d=\"M18.56 5.44l.94 2.06.94-2.06 2.06-.94-2.06-.94-.94-2.06-.94 2.06-2.06.94zm-11 1L8.5 8.5l.94-2.06 2.06-.94-2.06-.94L8.5 2.5l-.94 2.06-2.06.94zm10 10l.94 2.06.94-2.06 2.06-.94-2.06-.94-.94-2.06-.94 2.06-2.06.94z\"/><path d=\"M17.41 7.96l-1.37-1.37c-.4-.4-.92-.59-1.43-.59-.52 0-1.04.2-1.43.59L10.3 9.45l-7.72 7.72c-.78.78-.78 2.05 0 2.83L4 21.41c.39.39.9.59 1.41.59.51 0 1.02-.2 1.41-.59l7.78-7.78 2.81-2.81c.8-.78.8-2.07 0-2.86zM5.41 20L4 18.59l7.72-7.72 1.47 1.35L5.41 20z\"/>\n",
              "  </svg>\n",
              "      </button>\n",
              "      \n",
              "  <style>\n",
              "    .colab-df-container {\n",
              "      display:flex;\n",
              "      flex-wrap:wrap;\n",
              "      gap: 12px;\n",
              "    }\n",
              "\n",
              "    .colab-df-convert {\n",
              "      background-color: #E8F0FE;\n",
              "      border: none;\n",
              "      border-radius: 50%;\n",
              "      cursor: pointer;\n",
              "      display: none;\n",
              "      fill: #1967D2;\n",
              "      height: 32px;\n",
              "      padding: 0 0 0 0;\n",
              "      width: 32px;\n",
              "    }\n",
              "\n",
              "    .colab-df-convert:hover {\n",
              "      background-color: #E2EBFA;\n",
              "      box-shadow: 0px 1px 2px rgba(60, 64, 67, 0.3), 0px 1px 3px 1px rgba(60, 64, 67, 0.15);\n",
              "      fill: #174EA6;\n",
              "    }\n",
              "\n",
              "    [theme=dark] .colab-df-convert {\n",
              "      background-color: #3B4455;\n",
              "      fill: #D2E3FC;\n",
              "    }\n",
              "\n",
              "    [theme=dark] .colab-df-convert:hover {\n",
              "      background-color: #434B5C;\n",
              "      box-shadow: 0px 1px 3px 1px rgba(0, 0, 0, 0.15);\n",
              "      filter: drop-shadow(0px 1px 2px rgba(0, 0, 0, 0.3));\n",
              "      fill: #FFFFFF;\n",
              "    }\n",
              "  </style>\n",
              "\n",
              "      <script>\n",
              "        const buttonEl =\n",
              "          document.querySelector('#df-c9410936-bb9b-4409-a41d-aaed69a57eec button.colab-df-convert');\n",
              "        buttonEl.style.display =\n",
              "          google.colab.kernel.accessAllowed ? 'block' : 'none';\n",
              "\n",
              "        async function convertToInteractive(key) {\n",
              "          const element = document.querySelector('#df-c9410936-bb9b-4409-a41d-aaed69a57eec');\n",
              "          const dataTable =\n",
              "            await google.colab.kernel.invokeFunction('convertToInteractive',\n",
              "                                                     [key], {});\n",
              "          if (!dataTable) return;\n",
              "\n",
              "          const docLinkHtml = 'Like what you see? Visit the ' +\n",
              "            '<a target=\"_blank\" href=https://colab.research.google.com/notebooks/data_table.ipynb>data table notebook</a>'\n",
              "            + ' to learn more about interactive tables.';\n",
              "          element.innerHTML = '';\n",
              "          dataTable['output_type'] = 'display_data';\n",
              "          await google.colab.output.renderOutput(dataTable, element);\n",
              "          const docLink = document.createElement('div');\n",
              "          docLink.innerHTML = docLinkHtml;\n",
              "          element.appendChild(docLink);\n",
              "        }\n",
              "      </script>\n",
              "    </div>\n",
              "  </div>\n",
              "  "
            ]
          },
          "metadata": {},
          "execution_count": 10
        }
      ]
    },
    {
      "cell_type": "code",
      "source": [
        "for var in num_var:\n",
        "  num_dist(df_train,var)"
      ],
      "metadata": {
        "colab": {
          "base_uri": "https://localhost:8080/",
          "height": 1000
        },
        "id": "O5Tei3fkiFDU",
        "outputId": "3dcb8573-d700-401b-d942-2b7e007f404f"
      },
      "execution_count": 11,
      "outputs": [
        {
          "output_type": "display_data",
          "data": {
            "text/plain": [
              "<Figure size 864x288 with 2 Axes>"
            ],
            "image/png": "[encoded data removed]"
          },
          "metadata": {}
        },
        {
          "output_type": "display_data",
          "data": {
            "text/plain": [
              "<Figure size 864x288 with 2 Axes>"
            ],
            "image/png": "[encoded data removed]"
          },
          "metadata": {}
        },
        {
          "output_type": "display_data",
          "data": {
            "text/plain": [
              "<Figure size 864x288 with 2 Axes>"
            ],
            "image/png": "[encoded data removed]"
          },
          "metadata": {}
        },
        {
          "output_type": "display_data",
          "data": {
            "text/plain": [
              "<Figure size 864x288 with 2 Axes>"
            ],
            "image/png": "[encoded data removed]"
          },
          "metadata": {}
        }
      ]
    },
    {
      "cell_type": "markdown",
      "source": [
        "We can see that only `Age` has a normal distribution but some outliers causes it to be skewed to the right. \n",
        "\n",
        "`SibSp` and `Parch` tell us that most of passengers traveled alone.\n",
        "\n",
        "`Age` tell us the most passegers were 0.42 to 80 years old with average 28.\n",
        "\n",
        "`Fare` tells us the passengers paid for ticket between 0 to 512.3 which is interesting because there is passernger who traveled without paying.\n",
        "\n"
      ],
      "metadata": {
        "id": "dxlYdHXr9lV2"
      }
    },
    {
      "cell_type": "markdown",
      "source": [
        "### 2.2.2 Categorical"
      ],
      "metadata": {
        "id": "MFyl6lLjFlmk"
      }
    },
    {
      "cell_type": "code",
      "source": [
        "for var in cat_var:\n",
        "  cat_dist(df_train,var)"
      ],
      "metadata": {
        "colab": {
          "base_uri": "https://localhost:8080/",
          "height": 1000
        },
        "id": "VyOGEEfeiffZ",
        "outputId": "fdf8e6a6-d95a-4f0d-96c0-09cf271b1d5f"
      },
      "execution_count": 12,
      "outputs": [
        {
          "output_type": "display_data",
          "data": {
            "text/plain": [
              "<Figure size 864x360 with 2 Axes>"
            ],
            "image/png": "[encoded data removed]"
          },
          "metadata": {}
        },
        {
          "output_type": "display_data",
          "data": {
            "text/plain": [
              "<Figure size 864x360 with 2 Axes>"
            ],
            "image/png": "[encoded data removed]"
          },
          "metadata": {}
        },
        {
          "output_type": "display_data",
          "data": {
            "text/plain": [
              "<Figure size 864x360 with 2 Axes>"
            ],
            "image/png": "[encoded data removed]"
          },
          "metadata": {}
        }
      ]
    },
    {
      "cell_type": "markdown",
      "source": [
        "We can see that:\n",
        "\n",
        "- `Sex` tells us the most passengers dominated by male with 64.8%.\n",
        "\n",
        "- `Embarked` tells us the passengers dominated from S with 72.4%, C with 18.9%, and Q with 8.7%.\n",
        "\n",
        "- `Pclass` tell us the most passengers paid for ticket 3 with 55.1%, 1 with 24.2% and 2 with 20.7%\n"
      ],
      "metadata": {
        "id": "RTdL7FhfEwY8"
      }
    },
    {
      "cell_type": "markdown",
      "source": [
        "## 2.3 Survived Vs Not Survived"
      ],
      "metadata": {
        "id": "RalVS0U5FyWe"
      }
    },
    {
      "cell_type": "code",
      "source": [
        "fig,ax=plt.subplots(2,4,figsize=(20,8))\n",
        "ax=ax.flatten()\n",
        "\n",
        "for i,var in enumerate(num_var+cat_var):\n",
        "  if i < 4 :\n",
        "    sns.histplot(x=var,data=df_train,kde=True,hue=target,ax=ax[i])\n",
        "  else: sns.countplot(x=var,data=df_train,hue=target,ax=ax[i])\n",
        "\n",
        "  ax[i].set_title(f'{var} - Survived Vs Not Survived')\n",
        "\n",
        "plt.subplots_adjust(hspace=.5)\n",
        "plt.show()"
      ],
      "metadata": {
        "colab": {
          "base_uri": "https://localhost:8080/",
          "height": 414
        },
        "id": "LpCQS5y7IB6V",
        "outputId": "b1fcb8c0-37a3-483d-8c1d-31cc7fdb21c1"
      },
      "execution_count": 13,
      "outputs": [
        {
          "output_type": "display_data",
          "data": {
            "text/plain": [
              "<Figure size 1440x576 with 8 Axes>"
            ],
            "image/png": "[encoded data removed]"
          },
          "metadata": {}
        }
      ]
    },
    {
      "cell_type": "markdown",
      "source": [
        "From visualization above we get:\n",
        "- `SibSp` and `Parch` tell us passangers small amount of families have great chance to survive. \n",
        "- `Age` tells us children (<=10) have great chance to survive.\n",
        "- `Sex` tells us that Female passengers have greate chance to survive than male\n",
        "- `Embarked` tells us that passengers embarked from port C have greatest chance to survive than others\n",
        "- `Pclass` tells us that passengers with class 1 have greatest chance to survive which are make sense that passangers class 1 have first priority to be rescued\n"
      ],
      "metadata": {
        "id": "lZ0oJ6_W6rE8"
      }
    },
    {
      "cell_type": "code",
      "source": [
        "sns.violinplot(x='Sex',y='Age',data=df_train,hue='Survived',split=True)"
      ],
      "metadata": {
        "colab": {
          "base_uri": "https://localhost:8080/",
          "height": 296
        },
        "id": "TJzHp2A_jdcb",
        "outputId": "7b96a768-e4fd-4b0b-b0c6-d675c34ffcb9"
      },
      "execution_count": 14,
      "outputs": [
        {
          "output_type": "execute_result",
          "data": {
            "text/plain": [
              "<matplotlib.axes._subplots.AxesSubplot at 0x7f5202e40750>"
            ]
          },
          "metadata": {},
          "execution_count": 14
        },
        {
          "output_type": "display_data",
          "data": {
            "text/plain": [
              "<Figure size 432x288 with 1 Axes>"
            ],
            "image/png": "[encoded data removed]"
          },
          "metadata": {}
        }
      ]
    },
    {
      "cell_type": "code",
      "source": [
        "fig,ax=plt.subplots(1,2,figsize=(12,4))\n",
        "\n",
        "\n",
        "for i,var in enumerate(['SibSp','Parch']):\n",
        "  count=sns.barplot(x=var,y=target,data=df_train,ax=ax[i],ci=None )\n",
        "  for bar in count.patches:\n",
        "      count.annotate(format('{:.3f}'.format(bar.get_height())),\n",
        "                     (bar.get_x()+bar.get_width()/2,bar.get_height()),\n",
        "                     ha='center',\n",
        "                     va='center',\n",
        "                     size=11,\n",
        "                     xytext=(0,8), \n",
        "                     textcoords='offset points'\n",
        "                     )\n",
        "  ax[i].set_title(f'{var} - Survival Rate')\n",
        "plt.show()\n"
      ],
      "metadata": {
        "colab": {
          "base_uri": "https://localhost:8080/",
          "height": 295
        },
        "id": "adVdBGNpSUHS",
        "outputId": "130ed9b8-b9fd-40cb-ba26-b4e609354b1e"
      },
      "execution_count": 15,
      "outputs": [
        {
          "output_type": "display_data",
          "data": {
            "text/plain": [
              "<Figure size 864x288 with 2 Axes>"
            ],
            "image/png": "[encoded data removed]"
          },
          "metadata": {}
        }
      ]
    },
    {
      "cell_type": "markdown",
      "source": [
        "The graph shown above tell us the passengers with small amount of families tend to survive. Meanwhile, there are only ~34% lone passangers (`SibSp` and `Parch` = 0) are survived. Unfortunately, passangers with `SibSp` > 4 have 0% to survive, and most passengers with `Parch` > 3 have 0% to survive."
      ],
      "metadata": {
        "id": "wZlR69DOdF25"
      }
    },
    {
      "cell_type": "code",
      "source": [
        "fig,ax = plt.subplots(1,3,figsize=(20,6))\n",
        "\n",
        "for key,val in enumerate(sorted(df_train.Pclass.unique())):\n",
        "  sns.histplot(x='Fare',data=df_train[df_train.Pclass == val],kde=True,hue=target,ax=ax[key])\n",
        "  ax[key].set_title(f'Fare in Pclass {val} Survival Rate')"
      ],
      "metadata": {
        "colab": {
          "base_uri": "https://localhost:8080/",
          "height": 331
        },
        "id": "tQx1TtE0EZBB",
        "outputId": "b214a781-c3b7-4039-a8fb-edaf662fb8eb"
      },
      "execution_count": 16,
      "outputs": [
        {
          "output_type": "display_data",
          "data": {
            "text/plain": [
              "<Figure size 1440x432 with 3 Axes>"
            ],
            "image/png": "[encoded data removed]"
          },
          "metadata": {}
        }
      ]
    },
    {
      "cell_type": "markdown",
      "source": [
        "The passengers with higher `Fare` have great chance to survive, even though the highest `Fare` in `Pclass` 2 didn't survive. Most of the passengers in `Pclass` 3 didn't survive. Those 3 `Pclass` with lower `Fare` didn't survive."
      ],
      "metadata": {
        "id": "7cJLlnZMH8K6"
      }
    },
    {
      "cell_type": "markdown",
      "source": [
        "# 3 Feature Engineering"
      ],
      "metadata": {
        "id": "Tsz5mTBoF2Yu"
      }
    },
    {
      "cell_type": "markdown",
      "source": [
        "## 3.1 PassengerId"
      ],
      "metadata": {
        "id": "cfDlMreYGA0g"
      }
    },
    {
      "cell_type": "code",
      "source": [
        "df_train.PassengerId"
      ],
      "metadata": {
        "colab": {
          "base_uri": "https://localhost:8080/"
        },
        "id": "x7NXh4xxJfQf",
        "outputId": "d8639a98-ae61-4194-a138-97abe516a195"
      },
      "execution_count": 17,
      "outputs": [
        {
          "output_type": "execute_result",
          "data": {
            "text/plain": [
              "0        1\n",
              "1        2\n",
              "2        3\n",
              "3        4\n",
              "4        5\n",
              "      ... \n",
              "886    887\n",
              "887    888\n",
              "888    889\n",
              "889    890\n",
              "890    891\n",
              "Name: PassengerId, Length: 891, dtype: int64"
            ]
          },
          "metadata": {},
          "execution_count": 17
        }
      ]
    },
    {
      "cell_type": "markdown",
      "source": [
        "Because `PassengerId` is unique values and has no pattern within, we can drop it both in train and test data"
      ],
      "metadata": {
        "id": "ko1lCqkdUWdZ"
      }
    },
    {
      "cell_type": "code",
      "source": [
        "df_train.drop('PassengerId',axis=1,inplace=True)\n",
        "df_test.drop('PassengerId',axis=1,inplace=True)"
      ],
      "metadata": {
        "id": "trfNrlY9WBib"
      },
      "execution_count": 18,
      "outputs": []
    },
    {
      "cell_type": "markdown",
      "source": [
        "## 3.2 Name"
      ],
      "metadata": {
        "id": "8GvlK9a4II9g"
      }
    },
    {
      "cell_type": "code",
      "source": [
        "df_train.Name"
      ],
      "metadata": {
        "colab": {
          "base_uri": "https://localhost:8080/"
        },
        "id": "vVUCeKcjWdS_",
        "outputId": "56c4c861-7144-4dc5-c127-2a5fb0afae27"
      },
      "execution_count": 19,
      "outputs": [
        {
          "output_type": "execute_result",
          "data": {
            "text/plain": [
              "0                                Braund, Mr. Owen Harris\n",
              "1      Cumings, Mrs. John Bradley (Florence Briggs Th...\n",
              "2                                 Heikkinen, Miss. Laina\n",
              "3           Futrelle, Mrs. Jacques Heath (Lily May Peel)\n",
              "4                               Allen, Mr. William Henry\n",
              "                             ...                        \n",
              "886                                Montvila, Rev. Juozas\n",
              "887                         Graham, Miss. Margaret Edith\n",
              "888             Johnston, Miss. Catherine Helen \"Carrie\"\n",
              "889                                Behr, Mr. Karl Howell\n",
              "890                                  Dooley, Mr. Patrick\n",
              "Name: Name, Length: 891, dtype: object"
            ]
          },
          "metadata": {},
          "execution_count": 19
        }
      ]
    },
    {
      "cell_type": "markdown",
      "source": [
        "We can see there are some pattern from passenger's name like Mr, Ms, etc. let see what they are"
      ],
      "metadata": {
        "id": "vT4FtdvKXDv2"
      }
    },
    {
      "cell_type": "code",
      "source": [
        "df_train['Title']=df_train.Name.str.extract('([A-Za-z]+)\\.')\n",
        "df_test['Title']=df_test.Name.str.extract('([A-Za-z]+)\\.')\n"
      ],
      "metadata": {
        "id": "0vtwqHASXBsq"
      },
      "execution_count": 20,
      "outputs": []
    },
    {
      "cell_type": "code",
      "source": [
        "df_train.Title.value_counts()"
      ],
      "metadata": {
        "colab": {
          "base_uri": "https://localhost:8080/"
        },
        "id": "r7BcQjFfY2Y9",
        "outputId": "00e9fe4a-7f71-4256-f355-8587cd2d8a25"
      },
      "execution_count": 21,
      "outputs": [
        {
          "output_type": "execute_result",
          "data": {
            "text/plain": [
              "Mr          517\n",
              "Miss        182\n",
              "Mrs         125\n",
              "Master       40\n",
              "Dr            7\n",
              "Rev           6\n",
              "Mlle          2\n",
              "Major         2\n",
              "Col           2\n",
              "Countess      1\n",
              "Capt          1\n",
              "Ms            1\n",
              "Sir           1\n",
              "Lady          1\n",
              "Mme           1\n",
              "Don           1\n",
              "Jonkheer      1\n",
              "Name: Title, dtype: int64"
            ]
          },
          "metadata": {},
          "execution_count": 21
        }
      ]
    },
    {
      "cell_type": "markdown",
      "source": [
        "Some initials are owned by few people and some have same meanings to others. We need to group them into the same meaning"
      ],
      "metadata": {
        "id": "NqeIWvNIZ7Ek"
      }
    },
    {
      "cell_type": "code",
      "source": [
        " def convert_title(title):\n",
        "    if title in ['Miss','Mile','Ms']:\n",
        "      return 'Miss'\n",
        "    elif title in ['Mrs','Mme']:\n",
        "      return 'Mrs'\n",
        "    elif title in ['Mr']:\n",
        "      return 'Mr'\n",
        "    elif title == 'Master':\n",
        "      return 'Master'\n",
        "    else: return 'Other'\n"
      ],
      "metadata": {
        "id": "Z3jT-MLHZ5nr"
      },
      "execution_count": 22,
      "outputs": []
    },
    {
      "cell_type": "code",
      "source": [
        "df_train.Title=df_train.Title.map(convert_title)\n",
        "df_test.Title=df_test.Title.map(convert_title)\n"
      ],
      "metadata": {
        "id": "7XLZHL8weBo7"
      },
      "execution_count": 23,
      "outputs": []
    },
    {
      "cell_type": "code",
      "source": [
        "df_train.Title.value_counts()"
      ],
      "metadata": {
        "colab": {
          "base_uri": "https://localhost:8080/"
        },
        "id": "k7C2VhkNeYht",
        "outputId": "1fe1bdc7-dae6-4ee9-c0a5-823479467519"
      },
      "execution_count": 24,
      "outputs": [
        {
          "output_type": "execute_result",
          "data": {
            "text/plain": [
              "Mr        517\n",
              "Miss      183\n",
              "Mrs       126\n",
              "Master     40\n",
              "Other      25\n",
              "Name: Title, dtype: int64"
            ]
          },
          "metadata": {},
          "execution_count": 24
        }
      ]
    },
    {
      "cell_type": "markdown",
      "source": [
        "Now we are done so we can drop `Name` variable in both train and test data"
      ],
      "metadata": {
        "id": "5qktqUVge2Fj"
      }
    },
    {
      "cell_type": "code",
      "source": [
        "df_train.drop('Name',axis=1,inplace=True)\n",
        "df_test.drop('Name',axis=1,inplace=True)"
      ],
      "metadata": {
        "id": "fRunHAVDfEtx"
      },
      "execution_count": 25,
      "outputs": []
    },
    {
      "cell_type": "markdown",
      "source": [
        "## 3.3 Ticket"
      ],
      "metadata": {
        "id": "G_BrsLCyIPoa"
      }
    },
    {
      "cell_type": "code",
      "source": [
        "df_train.Ticket"
      ],
      "metadata": {
        "colab": {
          "base_uri": "https://localhost:8080/"
        },
        "id": "mwa9D5sYfO9x",
        "outputId": "cb8460ea-7a02-42c7-9c58-bb9847cc55d6"
      },
      "execution_count": 26,
      "outputs": [
        {
          "output_type": "execute_result",
          "data": {
            "text/plain": [
              "0             A/5 21171\n",
              "1              PC 17599\n",
              "2      STON/O2. 3101282\n",
              "3                113803\n",
              "4                373450\n",
              "             ...       \n",
              "886              211536\n",
              "887              112053\n",
              "888          W./C. 6607\n",
              "889              111369\n",
              "890              370376\n",
              "Name: Ticket, Length: 891, dtype: object"
            ]
          },
          "metadata": {},
          "execution_count": 26
        }
      ]
    },
    {
      "cell_type": "code",
      "source": [
        "df_train.Ticket.nunique()"
      ],
      "metadata": {
        "colab": {
          "base_uri": "https://localhost:8080/"
        },
        "id": "OVDuUJcbfdCL",
        "outputId": "7e656398-53f0-49a6-b165-173ae78a397b"
      },
      "execution_count": 27,
      "outputs": [
        {
          "output_type": "execute_result",
          "data": {
            "text/plain": [
              "681"
            ]
          },
          "metadata": {},
          "execution_count": 27
        }
      ]
    },
    {
      "cell_type": "markdown",
      "source": [
        "This variable has a lot unique values and no pattern to extract so we can drop it"
      ],
      "metadata": {
        "id": "Kg1LtwEkgKKL"
      }
    },
    {
      "cell_type": "code",
      "source": [
        "df_train.drop('Ticket',axis=1,inplace=True)\n",
        "df_test.drop('Ticket',axis=1,inplace=True)"
      ],
      "metadata": {
        "id": "HH_4uw1ngXOl"
      },
      "execution_count": 28,
      "outputs": []
    },
    {
      "cell_type": "markdown",
      "source": [
        "## 3.4 Cabin"
      ],
      "metadata": {
        "id": "JtckVmq5IsFM"
      }
    },
    {
      "cell_type": "code",
      "source": [
        "df_train.Cabin"
      ],
      "metadata": {
        "colab": {
          "base_uri": "https://localhost:8080/"
        },
        "id": "8b75AmKUgomO",
        "outputId": "1b725202-9b29-45d2-d3eb-2068bd712ea1"
      },
      "execution_count": 29,
      "outputs": [
        {
          "output_type": "execute_result",
          "data": {
            "text/plain": [
              "0       NaN\n",
              "1       C85\n",
              "2       NaN\n",
              "3      C123\n",
              "4       NaN\n",
              "       ... \n",
              "886     NaN\n",
              "887     B42\n",
              "888     NaN\n",
              "889    C148\n",
              "890     NaN\n",
              "Name: Cabin, Length: 891, dtype: object"
            ]
          },
          "metadata": {},
          "execution_count": 29
        }
      ]
    },
    {
      "cell_type": "code",
      "source": [
        "df_train.Cabin.value_counts()"
      ],
      "metadata": {
        "colab": {
          "base_uri": "https://localhost:8080/"
        },
        "id": "C93EdCS5gt_d",
        "outputId": "d2999cce-8b8c-49d1-e4e2-84291bbc5b3b"
      },
      "execution_count": 30,
      "outputs": [
        {
          "output_type": "execute_result",
          "data": {
            "text/plain": [
              "B96 B98        4\n",
              "G6             4\n",
              "C23 C25 C27    4\n",
              "C22 C26        3\n",
              "F33            3\n",
              "              ..\n",
              "E34            1\n",
              "C7             1\n",
              "C54            1\n",
              "E36            1\n",
              "C148           1\n",
              "Name: Cabin, Length: 147, dtype: int64"
            ]
          },
          "metadata": {},
          "execution_count": 30
        }
      ]
    },
    {
      "cell_type": "markdown",
      "source": [
        "As we know before in [Checking Null Values](#scrollTo=1_3_Checking_Null_Values) that Cabin variable has a lot of missing values so we can drop it "
      ],
      "metadata": {
        "id": "ggoCiX6-hMlD"
      }
    },
    {
      "cell_type": "code",
      "source": [
        "df_train.drop('Cabin',axis=1,inplace=True)\n",
        "df_test.drop('Cabin',axis=1,inplace=True)"
      ],
      "metadata": {
        "id": "9lzfzKqVjnfH"
      },
      "execution_count": 31,
      "outputs": []
    },
    {
      "cell_type": "markdown",
      "source": [
        "## 3.5 Age"
      ],
      "metadata": {
        "id": "UocB0UUxI2WA"
      }
    },
    {
      "cell_type": "code",
      "source": [
        "df_train.Age"
      ],
      "metadata": {
        "colab": {
          "base_uri": "https://localhost:8080/"
        },
        "id": "9IkTXkcejlQW",
        "outputId": "2d569ef9-f6c2-41d0-a94b-6a1b30b47d22"
      },
      "execution_count": 32,
      "outputs": [
        {
          "output_type": "execute_result",
          "data": {
            "text/plain": [
              "0      22.0\n",
              "1      38.0\n",
              "2      26.0\n",
              "3      35.0\n",
              "4      35.0\n",
              "       ... \n",
              "886    27.0\n",
              "887    19.0\n",
              "888     NaN\n",
              "889    26.0\n",
              "890    32.0\n",
              "Name: Age, Length: 891, dtype: float64"
            ]
          },
          "metadata": {},
          "execution_count": 32
        }
      ]
    },
    {
      "cell_type": "markdown",
      "source": [
        "We can see from [Checking Null Values](#scrollTo=1_3_Checking_Null_Values) that `Age` variable has small Null values so we need to perform imputation. Now, how do we do?\n",
        "\n",
        "We can't just fill them with mean or median or mode because the data is big and we can't assign people 60 years with median 28. we need other method\n",
        "\n",
        "let's check with their corelation to other variables"
      ],
      "metadata": {
        "id": "-LnTQ6eulB0I"
      }
    },
    {
      "cell_type": "code",
      "source": [
        "df_train.corr().Age.sort_values(ascending=False)"
      ],
      "metadata": {
        "colab": {
          "base_uri": "https://localhost:8080/"
        },
        "id": "XJZxX3Banvg8",
        "outputId": "6e193f40-7609-4d1d-bfbb-444a79621f80"
      },
      "execution_count": 33,
      "outputs": [
        {
          "output_type": "execute_result",
          "data": {
            "text/plain": [
              "Age         1.000000\n",
              "Fare        0.096067\n",
              "Survived   -0.077221\n",
              "Parch      -0.189119\n",
              "SibSp      -0.308247\n",
              "Pclass     -0.369226\n",
              "Name: Age, dtype: float64"
            ]
          },
          "metadata": {},
          "execution_count": 33
        }
      ]
    },
    {
      "cell_type": "markdown",
      "source": [
        "The corelation doesn't look good. We need to check it with categorical variable that might classify age of passengers. Probably `Title` variable"
      ],
      "metadata": {
        "id": "ds9B-CO1oMZL"
      }
    },
    {
      "cell_type": "code",
      "source": [
        "fig,ax=plt.subplots(1,df_train.select_dtypes('object').shape[1],figsize=(13,5))\n",
        "\n",
        "for key,val in enumerate(df_train.select_dtypes('object').columns):\n",
        "\n",
        "    sns.violinplot(x=val,y='Age',data=df_train,ax=ax[key])"
      ],
      "metadata": {
        "colab": {
          "base_uri": "https://localhost:8080/",
          "height": 334
        },
        "id": "lxUXYOxxGA4-",
        "outputId": "c8079d74-50b5-4c36-9c46-1f7a19bcf2fa"
      },
      "execution_count": 34,
      "outputs": [
        {
          "output_type": "display_data",
          "data": {
            "text/plain": [
              "<Figure size 936x360 with 3 Axes>"
            ],
            "image/png": "[encoded data removed]"
          },
          "metadata": {}
        }
      ]
    },
    {
      "cell_type": "markdown",
      "source": [
        "`Title` variable is more detail to classify age of passengers which is good. So we use it to impute missing values"
      ],
      "metadata": {
        "id": "LFtL2GpOI2QH"
      }
    },
    {
      "cell_type": "code",
      "source": [
        "sns.boxplot(x='Title',y='Age',data=df_train)"
      ],
      "metadata": {
        "colab": {
          "base_uri": "https://localhost:8080/",
          "height": 296
        },
        "id": "yM-sxiDBKg0J",
        "outputId": "7608b7d5-bdf0-45e0-b1d0-07b4861c295e"
      },
      "execution_count": 35,
      "outputs": [
        {
          "output_type": "execute_result",
          "data": {
            "text/plain": [
              "<matplotlib.axes._subplots.AxesSubplot at 0x7f5200e61bd0>"
            ]
          },
          "metadata": {},
          "execution_count": 35
        },
        {
          "output_type": "display_data",
          "data": {
            "text/plain": [
              "<Figure size 432x288 with 1 Axes>"
            ],
            "image/png": "[encoded data removed]"
          },
          "metadata": {}
        }
      ]
    },
    {
      "cell_type": "markdown",
      "source": [
        "`Age` in group by `Title` has 2 group contain outliers so we can use average to perform imputation"
      ],
      "metadata": {
        "id": "2ZTk9iWALJ2k"
      }
    },
    {
      "cell_type": "code",
      "source": [
        "df_train.groupby('Title').Age.mean()"
      ],
      "metadata": {
        "colab": {
          "base_uri": "https://localhost:8080/"
        },
        "id": "Wu07qfJmJ4yN",
        "outputId": "15c9657c-c3c6-40a0-ec7c-9757d68c4a9d"
      },
      "execution_count": 36,
      "outputs": [
        {
          "output_type": "execute_result",
          "data": {
            "text/plain": [
              "Title\n",
              "Master     4.574167\n",
              "Miss      21.816327\n",
              "Mr        32.368090\n",
              "Mrs       35.788991\n",
              "Other     43.750000\n",
              "Name: Age, dtype: float64"
            ]
          },
          "metadata": {},
          "execution_count": 36
        }
      ]
    },
    {
      "cell_type": "code",
      "source": [
        "data=[df_train,df_test]\n",
        "\n",
        "for df in data:\n",
        "  df.loc[(df.Title == 'Master')&(df.Age.isnull()),'Age']=5\n",
        "  df.loc[(df.Title == 'Miss')&(df.Age.isnull()),'Age']=22\n",
        "  df.loc[(df.Title == 'Mr')&(df.Age.isnull()),'Age']=32\n",
        "  df.loc[(df.Title == 'Mrs')&(df.Age.isnull()),'Age']=36\n",
        "  df.loc[(df.Title == 'Other')&(df.Age.isnull()),'Age']=44\n"
      ],
      "metadata": {
        "id": "DS8Qk7qFRfDi"
      },
      "execution_count": 37,
      "outputs": []
    },
    {
      "cell_type": "markdown",
      "source": [
        "## 3.6 Fare"
      ],
      "metadata": {
        "id": "suW-p_99I78C"
      }
    },
    {
      "cell_type": "markdown",
      "source": [
        "In [checking missing](#scrollTo=1_3_Checking_Null_values) value, we know that fare has 1 missing value in test data, so we will perform imputation but before that we need to check it's corelation to others."
      ],
      "metadata": {
        "id": "4-poogb6bNvU"
      }
    },
    {
      "cell_type": "code",
      "source": [
        "df_train.corr().Fare"
      ],
      "metadata": {
        "colab": {
          "base_uri": "https://localhost:8080/"
        },
        "id": "6_Dfw5k1cqaL",
        "outputId": "9160274d-5a81-42aa-c206-fbc1ce163904"
      },
      "execution_count": 38,
      "outputs": [
        {
          "output_type": "execute_result",
          "data": {
            "text/plain": [
              "Survived    0.257307\n",
              "Pclass     -0.549500\n",
              "Age         0.092122\n",
              "SibSp       0.159651\n",
              "Parch       0.216225\n",
              "Fare        1.000000\n",
              "Name: Fare, dtype: float64"
            ]
          },
          "metadata": {},
          "execution_count": 38
        }
      ]
    },
    {
      "cell_type": "markdown",
      "source": [
        "`Fare` variable looks good negative corelation with `Pclass` so we will check `Pclass` in missing value data."
      ],
      "metadata": {
        "id": "L6wHjN1odmTG"
      }
    },
    {
      "cell_type": "code",
      "source": [
        "df_test.loc[df_test.Fare.isnull()]"
      ],
      "metadata": {
        "colab": {
          "base_uri": "https://localhost:8080/",
          "height": 81
        },
        "id": "jMXYKhQHeOuG",
        "outputId": "e9ccf872-bf29-4636-e0f1-ea57ac856ef1"
      },
      "execution_count": 39,
      "outputs": [
        {
          "output_type": "execute_result",
          "data": {
            "text/plain": [
              "     Pclass   Sex   Age  SibSp  Parch  Fare Embarked Title\n",
              "152       3  male  60.5      0      0   NaN        S    Mr"
            ],
            "text/html": [
              "\n",
              "  <div id=\"df-4ac9f388-26b9-4a2b-b79d-344736e42168\">\n",
              "    <div class=\"colab-df-container\">\n",
              "      <div>\n",
              "<style scoped>\n",
              "    .dataframe tbody tr th:only-of-type {\n",
              "        vertical-align: middle;\n",
              "    }\n",
              "\n",
              "    .dataframe tbody tr th {\n",
              "        vertical-align: top;\n",
              "    }\n",
              "\n",
              "    .dataframe thead th {\n",
              "        text-align: right;\n",
              "    }\n",
              "</style>\n",
              "<table border=\"1\" class=\"dataframe\">\n",
              "  <thead>\n",
              "    <tr style=\"text-align: right;\">\n",
              "      <th></th>\n",
              "      <th>Pclass</th>\n",
              "      <th>Sex</th>\n",
              "      <th>Age</th>\n",
              "      <th>SibSp</th>\n",
              "      <th>Parch</th>\n",
              "      <th>Fare</th>\n",
              "      <th>Embarked</th>\n",
              "      <th>Title</th>\n",
              "    </tr>\n",
              "  </thead>\n",
              "  <tbody>\n",
              "    <tr>\n",
              "      <th>152</th>\n",
              "      <td>3</td>\n",
              "      <td>male</td>\n",
              "      <td>60.5</td>\n",
              "      <td>0</td>\n",
              "      <td>0</td>\n",
              "      <td>NaN</td>\n",
              "      <td>S</td>\n",
              "      <td>Mr</td>\n",
              "    </tr>\n",
              "  </tbody>\n",
              "</table>\n",
              "</div>\n",
              "      <button class=\"colab-df-convert\" onclick=\"convertToInteractive('df-4ac9f388-26b9-4a2b-b79d-344736e42168')\"\n",
              "              title=\"Convert this dataframe to an interactive table.\"\n",
              "              style=\"display:none;\">\n",
              "        \n",
              "  <svg xmlns=\"http://www.w3.org/2000/svg\" height=\"24px\"viewBox=\"0 0 24 24\"\n",
              "       width=\"24px\">\n",
              "    <path d=\"M0 0h24v24H0V0z\" fill=\"none\"/>\n",
              "    <path d=\"M18.56 5.44l.94 2.06.94-2.06 2.06-.94-2.06-.94-.94-2.06-.94 2.06-2.06.94zm-11 1L8.5 8.5l.94-2.06 2.06-.94-2.06-.94L8.5 2.5l-.94 2.06-2.06.94zm10 10l.94 2.06.94-2.06 2.06-.94-2.06-.94-.94-2.06-.94 2.06-2.06.94z\"/><path d=\"M17.41 7.96l-1.37-1.37c-.4-.4-.92-.59-1.43-.59-.52 0-1.04.2-1.43.59L10.3 9.45l-7.72 7.72c-.78.78-.78 2.05 0 2.83L4 21.41c.39.39.9.59 1.41.59.51 0 1.02-.2 1.41-.59l7.78-7.78 2.81-2.81c.8-.78.8-2.07 0-2.86zM5.41 20L4 18.59l7.72-7.72 1.47 1.35L5.41 20z\"/>\n",
              "  </svg>\n",
              "      </button>\n",
              "      \n",
              "  <style>\n",
              "    .colab-df-container {\n",
              "      display:flex;\n",
              "      flex-wrap:wrap;\n",
              "      gap: 12px;\n",
              "    }\n",
              "\n",
              "    .colab-df-convert {\n",
              "      background-color: #E8F0FE;\n",
              "      border: none;\n",
              "      border-radius: 50%;\n",
              "      cursor: pointer;\n",
              "      display: none;\n",
              "      fill: #1967D2;\n",
              "      height: 32px;\n",
              "      padding: 0 0 0 0;\n",
              "      width: 32px;\n",
              "    }\n",
              "\n",
              "    .colab-df-convert:hover {\n",
              "      background-color: #E2EBFA;\n",
              "      box-shadow: 0px 1px 2px rgba(60, 64, 67, 0.3), 0px 1px 3px 1px rgba(60, 64, 67, 0.15);\n",
              "      fill: #174EA6;\n",
              "    }\n",
              "\n",
              "    [theme=dark] .colab-df-convert {\n",
              "      background-color: #3B4455;\n",
              "      fill: #D2E3FC;\n",
              "    }\n",
              "\n",
              "    [theme=dark] .colab-df-convert:hover {\n",
              "      background-color: #434B5C;\n",
              "      box-shadow: 0px 1px 3px 1px rgba(0, 0, 0, 0.15);\n",
              "      filter: drop-shadow(0px 1px 2px rgba(0, 0, 0, 0.3));\n",
              "      fill: #FFFFFF;\n",
              "    }\n",
              "  </style>\n",
              "\n",
              "      <script>\n",
              "        const buttonEl =\n",
              "          document.querySelector('#df-4ac9f388-26b9-4a2b-b79d-344736e42168 button.colab-df-convert');\n",
              "        buttonEl.style.display =\n",
              "          google.colab.kernel.accessAllowed ? 'block' : 'none';\n",
              "\n",
              "        async function convertToInteractive(key) {\n",
              "          const element = document.querySelector('#df-4ac9f388-26b9-4a2b-b79d-344736e42168');\n",
              "          const dataTable =\n",
              "            await google.colab.kernel.invokeFunction('convertToInteractive',\n",
              "                                                     [key], {});\n",
              "          if (!dataTable) return;\n",
              "\n",
              "          const docLinkHtml = 'Like what you see? Visit the ' +\n",
              "            '<a target=\"_blank\" href=https://colab.research.google.com/notebooks/data_table.ipynb>data table notebook</a>'\n",
              "            + ' to learn more about interactive tables.';\n",
              "          element.innerHTML = '';\n",
              "          dataTable['output_type'] = 'display_data';\n",
              "          await google.colab.output.renderOutput(dataTable, element);\n",
              "          const docLink = document.createElement('div');\n",
              "          docLink.innerHTML = docLinkHtml;\n",
              "          element.appendChild(docLink);\n",
              "        }\n",
              "      </script>\n",
              "    </div>\n",
              "  </div>\n",
              "  "
            ]
          },
          "metadata": {},
          "execution_count": 39
        }
      ]
    },
    {
      "cell_type": "markdown",
      "source": [
        "`Pclass` of `Fare` missing value is 3. So we will impute missing value with mean of group of `Pclass` 3."
      ],
      "metadata": {
        "id": "LH3VgY08ekc5"
      }
    },
    {
      "cell_type": "code",
      "source": [
        "df_test.Fare.fillna(df_test.groupby('Pclass').mean().Fare[3],inplace=True)"
      ],
      "metadata": {
        "id": "YVEq_keqjTSD"
      },
      "execution_count": 40,
      "outputs": []
    },
    {
      "cell_type": "markdown",
      "source": [
        "## 3.7 SibSp and Parch"
      ],
      "metadata": {
        "id": "1Xwe_YykJEL5"
      }
    },
    {
      "cell_type": "markdown",
      "source": [
        "`SibSp` and `Parch` are explain that passengers are alone or not so we can create new variable name `Relative` that indicates whether passengers is alone or not by adding them and if the results has greater than 0 then we assign 1 into it if not then 0. "
      ],
      "metadata": {
        "id": "G8fweiOllwUk"
      }
    },
    {
      "cell_type": "code",
      "source": [
        "for df in data:\n",
        "  df['Relative']=df.SibSp + df.Parch\n",
        "  df.loc[df.Relative > 0,'Alone']=1\n",
        "  df.loc[df.Relative == 0,'Alone']=0"
      ],
      "metadata": {
        "id": "ZYU5lsLInmG2"
      },
      "execution_count": 41,
      "outputs": []
    },
    {
      "cell_type": "markdown",
      "source": [
        "Since we have `relative` and `Alone`, `SibSp` and `Parch` can be dropped."
      ],
      "metadata": {
        "id": "HpyjRte1tfNP"
      }
    },
    {
      "cell_type": "code",
      "source": [
        "df_train.drop(['SibSp','Parch'],axis=1,inplace=True)\n",
        "df_test.drop(['SibSp','Parch'],axis=1,inplace=True)"
      ],
      "metadata": {
        "id": "3OKaXNovsfKx"
      },
      "execution_count": 42,
      "outputs": []
    },
    {
      "cell_type": "markdown",
      "source": [
        "# 4 Feature Encoding And Scaling"
      ],
      "metadata": {
        "id": "CwRoPbIeJTw7"
      }
    },
    {
      "cell_type": "code",
      "source": [
        "ct=ColumnTransformer(\n",
        "    [\n",
        "        ('ohe',OneHotEncoder(),['Sex','Embarked','Title']),\n",
        "        ('scaler',StandardScaler(),['Pclass','Age','Fare','Relative'])\n",
        "    ]\n",
        ")"
      ],
      "metadata": {
        "id": "wjbEos3SCG3a"
      },
      "execution_count": 43,
      "outputs": []
    },
    {
      "cell_type": "markdown",
      "source": [
        "# 5 Model Building"
      ],
      "metadata": {
        "id": "3D85jOvI-WUx"
      }
    },
    {
      "cell_type": "markdown",
      "source": [
        "## 5.1 Splitting Dataset"
      ],
      "metadata": {
        "id": "sHosk4G3-iRo"
      }
    },
    {
      "cell_type": "code",
      "source": [
        ""
      ],
      "metadata": {
        "colab": {
          "base_uri": "https://localhost:8080/",
          "height": 424
        },
        "id": "JvVlZiUxl6CR",
        "outputId": "0850eb19-19ce-44e7-c429-a7e199ec657c"
      },
      "execution_count": 149,
      "outputs": [
        {
          "output_type": "execute_result",
          "data": {
            "text/plain": [
              "     Pclass     Sex   Age      Fare Embarked   Title  Relative  Alone\n",
              "0         3    male  34.5    7.8292        Q      Mr         0    0.0\n",
              "1         3  female  47.0    7.0000        S     Mrs         1    1.0\n",
              "2         2    male  62.0    9.6875        Q      Mr         0    0.0\n",
              "3         3    male  27.0    8.6625        S      Mr         0    0.0\n",
              "4         3  female  22.0   12.2875        S     Mrs         2    1.0\n",
              "..      ...     ...   ...       ...      ...     ...       ...    ...\n",
              "413       3    male  32.0    8.0500        S      Mr         0    0.0\n",
              "414       1  female  39.0  108.9000        C   Other         0    0.0\n",
              "415       3    male  38.5    7.2500        S      Mr         0    0.0\n",
              "416       3    male  32.0    8.0500        S      Mr         0    0.0\n",
              "417       3    male   5.0   22.3583        C  Master         2    1.0\n",
              "\n",
              "[418 rows x 8 columns]"
            ],
            "text/html": [
              "\n",
              "  <div id=\"df-3b83f12c-bfa4-4be5-9adc-e459194ba52c\">\n",
              "    <div class=\"colab-df-container\">\n",
              "      <div>\n",
              "<style scoped>\n",
              "    .dataframe tbody tr th:only-of-type {\n",
              "        vertical-align: middle;\n",
              "    }\n",
              "\n",
              "    .dataframe tbody tr th {\n",
              "        vertical-align: top;\n",
              "    }\n",
              "\n",
              "    .dataframe thead th {\n",
              "        text-align: right;\n",
              "    }\n",
              "</style>\n",
              "<table border=\"1\" class=\"dataframe\">\n",
              "  <thead>\n",
              "    <tr style=\"text-align: right;\">\n",
              "      <th></th>\n",
              "      <th>Pclass</th>\n",
              "      <th>Sex</th>\n",
              "      <th>Age</th>\n",
              "      <th>Fare</th>\n",
              "      <th>Embarked</th>\n",
              "      <th>Title</th>\n",
              "      <th>Relative</th>\n",
              "      <th>Alone</th>\n",
              "    </tr>\n",
              "  </thead>\n",
              "  <tbody>\n",
              "    <tr>\n",
              "      <th>0</th>\n",
              "      <td>3</td>\n",
              "      <td>male</td>\n",
              "      <td>34.5</td>\n",
              "      <td>7.8292</td>\n",
              "      <td>Q</td>\n",
              "      <td>Mr</td>\n",
              "      <td>0</td>\n",
              "      <td>0.0</td>\n",
              "    </tr>\n",
              "    <tr>\n",
              "      <th>1</th>\n",
              "      <td>3</td>\n",
              "      <td>female</td>\n",
              "      <td>47.0</td>\n",
              "      <td>7.0000</td>\n",
              "      <td>S</td>\n",
              "      <td>Mrs</td>\n",
              "      <td>1</td>\n",
              "      <td>1.0</td>\n",
              "    </tr>\n",
              "    <tr>\n",
              "      <th>2</th>\n",
              "      <td>2</td>\n",
              "      <td>male</td>\n",
              "      <td>62.0</td>\n",
              "      <td>9.6875</td>\n",
              "      <td>Q</td>\n",
              "      <td>Mr</td>\n",
              "      <td>0</td>\n",
              "      <td>0.0</td>\n",
              "    </tr>\n",
              "    <tr>\n",
              "      <th>3</th>\n",
              "      <td>3</td>\n",
              "      <td>male</td>\n",
              "      <td>27.0</td>\n",
              "      <td>8.6625</td>\n",
              "      <td>S</td>\n",
              "      <td>Mr</td>\n",
              "      <td>0</td>\n",
              "      <td>0.0</td>\n",
              "    </tr>\n",
              "    <tr>\n",
              "      <th>4</th>\n",
              "      <td>3</td>\n",
              "      <td>female</td>\n",
              "      <td>22.0</td>\n",
              "      <td>12.2875</td>\n",
              "      <td>S</td>\n",
              "      <td>Mrs</td>\n",
              "      <td>2</td>\n",
              "      <td>1.0</td>\n",
              "    </tr>\n",
              "    <tr>\n",
              "      <th>...</th>\n",
              "      <td>...</td>\n",
              "      <td>...</td>\n",
              "      <td>...</td>\n",
              "      <td>...</td>\n",
              "      <td>...</td>\n",
              "      <td>...</td>\n",
              "      <td>...</td>\n",
              "      <td>...</td>\n",
              "    </tr>\n",
              "    <tr>\n",
              "      <th>413</th>\n",
              "      <td>3</td>\n",
              "      <td>male</td>\n",
              "      <td>32.0</td>\n",
              "      <td>8.0500</td>\n",
              "      <td>S</td>\n",
              "      <td>Mr</td>\n",
              "      <td>0</td>\n",
              "      <td>0.0</td>\n",
              "    </tr>\n",
              "    <tr>\n",
              "      <th>414</th>\n",
              "      <td>1</td>\n",
              "      <td>female</td>\n",
              "      <td>39.0</td>\n",
              "      <td>108.9000</td>\n",
              "      <td>C</td>\n",
              "      <td>Other</td>\n",
              "      <td>0</td>\n",
              "      <td>0.0</td>\n",
              "    </tr>\n",
              "    <tr>\n",
              "      <th>415</th>\n",
              "      <td>3</td>\n",
              "      <td>male</td>\n",
              "      <td>38.5</td>\n",
              "      <td>7.2500</td>\n",
              "      <td>S</td>\n",
              "      <td>Mr</td>\n",
              "      <td>0</td>\n",
              "      <td>0.0</td>\n",
              "    </tr>\n",
              "    <tr>\n",
              "      <th>416</th>\n",
              "      <td>3</td>\n",
              "      <td>male</td>\n",
              "      <td>32.0</td>\n",
              "      <td>8.0500</td>\n",
              "      <td>S</td>\n",
              "      <td>Mr</td>\n",
              "      <td>0</td>\n",
              "      <td>0.0</td>\n",
              "    </tr>\n",
              "    <tr>\n",
              "      <th>417</th>\n",
              "      <td>3</td>\n",
              "      <td>male</td>\n",
              "      <td>5.0</td>\n",
              "      <td>22.3583</td>\n",
              "      <td>C</td>\n",
              "      <td>Master</td>\n",
              "      <td>2</td>\n",
              "      <td>1.0</td>\n",
              "    </tr>\n",
              "  </tbody>\n",
              "</table>\n",
              "<p>418 rows × 8 columns</p>\n",
              "</div>\n",
              "      <button class=\"colab-df-convert\" onclick=\"convertToInteractive('df-3b83f12c-bfa4-4be5-9adc-e459194ba52c')\"\n",
              "              title=\"Convert this dataframe to an interactive table.\"\n",
              "              style=\"display:none;\">\n",
              "        \n",
              "  <svg xmlns=\"http://www.w3.org/2000/svg\" height=\"24px\"viewBox=\"0 0 24 24\"\n",
              "       width=\"24px\">\n",
              "    <path d=\"M0 0h24v24H0V0z\" fill=\"none\"/>\n",
              "    <path d=\"M18.56 5.44l.94 2.06.94-2.06 2.06-.94-2.06-.94-.94-2.06-.94 2.06-2.06.94zm-11 1L8.5 8.5l.94-2.06 2.06-.94-2.06-.94L8.5 2.5l-.94 2.06-2.06.94zm10 10l.94 2.06.94-2.06 2.06-.94-2.06-.94-.94-2.06-.94 2.06-2.06.94z\"/><path d=\"M17.41 7.96l-1.37-1.37c-.4-.4-.92-.59-1.43-.59-.52 0-1.04.2-1.43.59L10.3 9.45l-7.72 7.72c-.78.78-.78 2.05 0 2.83L4 21.41c.39.39.9.59 1.41.59.51 0 1.02-.2 1.41-.59l7.78-7.78 2.81-2.81c.8-.78.8-2.07 0-2.86zM5.41 20L4 18.59l7.72-7.72 1.47 1.35L5.41 20z\"/>\n",
              "  </svg>\n",
              "      </button>\n",
              "      \n",
              "  <style>\n",
              "    .colab-df-container {\n",
              "      display:flex;\n",
              "      flex-wrap:wrap;\n",
              "      gap: 12px;\n",
              "    }\n",
              "\n",
              "    .colab-df-convert {\n",
              "      background-color: #E8F0FE;\n",
              "      border: none;\n",
              "      border-radius: 50%;\n",
              "      cursor: pointer;\n",
              "      display: none;\n",
              "      fill: #1967D2;\n",
              "      height: 32px;\n",
              "      padding: 0 0 0 0;\n",
              "      width: 32px;\n",
              "    }\n",
              "\n",
              "    .colab-df-convert:hover {\n",
              "      background-color: #E2EBFA;\n",
              "      box-shadow: 0px 1px 2px rgba(60, 64, 67, 0.3), 0px 1px 3px 1px rgba(60, 64, 67, 0.15);\n",
              "      fill: #174EA6;\n",
              "    }\n",
              "\n",
              "    [theme=dark] .colab-df-convert {\n",
              "      background-color: #3B4455;\n",
              "      fill: #D2E3FC;\n",
              "    }\n",
              "\n",
              "    [theme=dark] .colab-df-convert:hover {\n",
              "      background-color: #434B5C;\n",
              "      box-shadow: 0px 1px 3px 1px rgba(0, 0, 0, 0.15);\n",
              "      filter: drop-shadow(0px 1px 2px rgba(0, 0, 0, 0.3));\n",
              "      fill: #FFFFFF;\n",
              "    }\n",
              "  </style>\n",
              "\n",
              "      <script>\n",
              "        const buttonEl =\n",
              "          document.querySelector('#df-3b83f12c-bfa4-4be5-9adc-e459194ba52c button.colab-df-convert');\n",
              "        buttonEl.style.display =\n",
              "          google.colab.kernel.accessAllowed ? 'block' : 'none';\n",
              "\n",
              "        async function convertToInteractive(key) {\n",
              "          const element = document.querySelector('#df-3b83f12c-bfa4-4be5-9adc-e459194ba52c');\n",
              "          const dataTable =\n",
              "            await google.colab.kernel.invokeFunction('convertToInteractive',\n",
              "                                                     [key], {});\n",
              "          if (!dataTable) return;\n",
              "\n",
              "          const docLinkHtml = 'Like what you see? Visit the ' +\n",
              "            '<a target=\"_blank\" href=https://colab.research.google.com/notebooks/data_table.ipynb>data table notebook</a>'\n",
              "            + ' to learn more about interactive tables.';\n",
              "          element.innerHTML = '';\n",
              "          dataTable['output_type'] = 'display_data';\n",
              "          await google.colab.output.renderOutput(dataTable, element);\n",
              "          const docLink = document.createElement('div');\n",
              "          docLink.innerHTML = docLinkHtml;\n",
              "          element.appendChild(docLink);\n",
              "        }\n",
              "      </script>\n",
              "    </div>\n",
              "  </div>\n",
              "  "
            ]
          },
          "metadata": {},
          "execution_count": 149
        }
      ]
    },
    {
      "cell_type": "code",
      "source": [
        "X_train=df_train.drop('Survived',axis=1)\n",
        "y_train=df_train.Survived\n",
        "\n",
        "X_test=df_test"
      ],
      "metadata": {
        "id": "E9ogHQgmIG1U"
      },
      "execution_count": 150,
      "outputs": []
    },
    {
      "cell_type": "markdown",
      "source": [
        "## 5.2 Instantiate Classifiers"
      ],
      "metadata": {
        "id": "AmBIBai1Dcjk"
      }
    },
    {
      "cell_type": "code",
      "source": [
        "clf=LogisticRegression(max_iter=1000)\n",
        "clf1=KNeighborsClassifier(n_jobs=-1)\n",
        "clf2=RandomForestClassifier(n_jobs=-1)\n",
        "clf3=SVC()\n",
        "clf4=MLPClassifier(max_iter=1000)\n",
        "clf5=XGBClassifier()\n",
        "clf6=LGBMClassifier()"
      ],
      "metadata": {
        "id": "cJ5GtFZxDpRM"
      },
      "execution_count": 45,
      "outputs": []
    },
    {
      "cell_type": "code",
      "source": [
        "params={\n",
        "    'classifier':[clf]\n",
        "\n",
        "}\n",
        "\n",
        "params1={\n",
        "    'classifier':[clf1]\n",
        "}\n",
        "\n",
        "params2={\n",
        "    'classifier':[clf2]\n",
        "}\n",
        "\n",
        "params3={\n",
        "    'classifier':[clf3]\n",
        "}\n",
        "\n",
        "params4={\n",
        "    'classifier':[clf4]\n",
        "}\n",
        "params5={\n",
        "    'classifier':[clf5]\n",
        "  \n",
        "}\n",
        "params6={\n",
        "    'classifier':[clf6]\n",
        "}\n",
        "params=[params,params1,params2,params3,params4,params5,params6]"
      ],
      "metadata": {
        "id": "_GTCtwF5Mmve"
      },
      "execution_count": 87,
      "outputs": []
    },
    {
      "cell_type": "markdown",
      "source": [
        "## 5.3 Instantiate Pipeline"
      ],
      "metadata": {
        "id": "_43sFuZD_Fp9"
      }
    },
    {
      "cell_type": "code",
      "source": [
        "pipe=Pipeline(\n",
        "    [('processor',ct),('classifier',clf)]\n",
        ")"
      ],
      "metadata": {
        "id": "pCj4mOP7_RDw"
      },
      "execution_count": 83,
      "outputs": []
    },
    {
      "cell_type": "markdown",
      "source": [
        "## 5.4 Perform GridSearchCV"
      ],
      "metadata": {
        "id": "2ORy6A9kRMq8"
      }
    },
    {
      "cell_type": "code",
      "source": [
        "grid=GridSearchCV(pipe,params ,n_jobs=-1)"
      ],
      "metadata": {
        "id": "Slu9t3eMRSXK"
      },
      "execution_count": 84,
      "outputs": []
    },
    {
      "cell_type": "code",
      "source": [
        "grid.fit(X_train,y_train)"
      ],
      "metadata": {
        "colab": {
          "base_uri": "https://localhost:8080/"
        },
        "id": "IotB8Lv4RfFd",
        "outputId": "5b54e0c1-ff63-46c9-b2b9-93a62a3e876a"
      },
      "execution_count": 85,
      "outputs": [
        {
          "output_type": "execute_result",
          "data": {
            "text/plain": [
              "GridSearchCV(estimator=Pipeline(steps=[('processor',\n",
              "                                        ColumnTransformer(transformers=[('ohe',\n",
              "                                                                         OneHotEncoder(),\n",
              "                                                                         ['Sex',\n",
              "                                                                          'Embarked',\n",
              "                                                                          'Title']),\n",
              "                                                                        ('scaler',\n",
              "                                                                         StandardScaler(),\n",
              "                                                                         ['Pclass',\n",
              "                                                                          'Age',\n",
              "                                                                          'Fare',\n",
              "                                                                          'Relative'])])),\n",
              "                                       ('classifier', LGBMClassifier())]),\n",
              "             n_jobs=-1,\n",
              "             param_grid=[{'classifier': [LGBMClassifier()]},\n",
              "                         {'classifier': [KNeighborsClassifier(n_jobs=-1)]},\n",
              "                         {'classifier': [RandomForestClassifier(n_jobs=-1)]},\n",
              "                         {'classifier': [SVC()]},\n",
              "                         {'classifier': [MLPClassifier(max_iter=1000)]},\n",
              "                         {'classifier': [XGBClassifier()]},\n",
              "                         {'classifier': [LGBMClassifier()]}])"
            ]
          },
          "metadata": {},
          "execution_count": 85
        }
      ]
    },
    {
      "cell_type": "code",
      "source": [
        "results=pd.DataFrame(grid.cv_results_)[['param_classifier','mean_test_score','std_test_score','rank_test_score']].sort_values('rank_test_score').sort_values('rank_test_score')\n",
        "\n",
        "results"
      ],
      "metadata": {
        "colab": {
          "base_uri": "https://localhost:8080/",
          "height": 269
        },
        "id": "3CmhndmsRwEb",
        "outputId": "7ae06d64-30ea-436e-f937-36c4db355e9f"
      },
      "execution_count": 108,
      "outputs": [
        {
          "output_type": "execute_result",
          "data": {
            "text/plain": [
              "                    param_classifier  mean_test_score  std_test_score  \\\n",
              "5                    XGBClassifier()         0.833909        0.025170   \n",
              "3                              SVC()         0.830525        0.025731   \n",
              "0                   LGBMClassifier()         0.823803        0.026665   \n",
              "6                   LGBMClassifier()         0.823803        0.026665   \n",
              "1    KNeighborsClassifier(n_jobs=-1)         0.815963        0.016872   \n",
              "4       MLPClassifier(max_iter=1000)         0.806993        0.019900   \n",
              "2  RandomForestClassifier(n_jobs=-1)         0.806986        0.016898   \n",
              "\n",
              "   rank_test_score  \n",
              "5                1  \n",
              "3                2  \n",
              "0                3  \n",
              "6                3  \n",
              "1                5  \n",
              "4                6  \n",
              "2                7  "
            ],
            "text/html": [
              "\n",
              "  <div id=\"df-8eb2660f-dda7-4a17-aef2-a92c1443db4d\">\n",
              "    <div class=\"colab-df-container\">\n",
              "      <div>\n",
              "<style scoped>\n",
              "    .dataframe tbody tr th:only-of-type {\n",
              "        vertical-align: middle;\n",
              "    }\n",
              "\n",
              "    .dataframe tbody tr th {\n",
              "        vertical-align: top;\n",
              "    }\n",
              "\n",
              "    .dataframe thead th {\n",
              "        text-align: right;\n",
              "    }\n",
              "</style>\n",
              "<table border=\"1\" class=\"dataframe\">\n",
              "  <thead>\n",
              "    <tr style=\"text-align: right;\">\n",
              "      <th></th>\n",
              "      <th>param_classifier</th>\n",
              "      <th>mean_test_score</th>\n",
              "      <th>std_test_score</th>\n",
              "      <th>rank_test_score</th>\n",
              "    </tr>\n",
              "  </thead>\n",
              "  <tbody>\n",
              "    <tr>\n",
              "      <th>5</th>\n",
              "      <td>XGBClassifier()</td>\n",
              "      <td>0.833909</td>\n",
              "      <td>0.025170</td>\n",
              "      <td>1</td>\n",
              "    </tr>\n",
              "    <tr>\n",
              "      <th>3</th>\n",
              "      <td>SVC()</td>\n",
              "      <td>0.830525</td>\n",
              "      <td>0.025731</td>\n",
              "      <td>2</td>\n",
              "    </tr>\n",
              "    <tr>\n",
              "      <th>0</th>\n",
              "      <td>LGBMClassifier()</td>\n",
              "      <td>0.823803</td>\n",
              "      <td>0.026665</td>\n",
              "      <td>3</td>\n",
              "    </tr>\n",
              "    <tr>\n",
              "      <th>6</th>\n",
              "      <td>LGBMClassifier()</td>\n",
              "      <td>0.823803</td>\n",
              "      <td>0.026665</td>\n",
              "      <td>3</td>\n",
              "    </tr>\n",
              "    <tr>\n",
              "      <th>1</th>\n",
              "      <td>KNeighborsClassifier(n_jobs=-1)</td>\n",
              "      <td>0.815963</td>\n",
              "      <td>0.016872</td>\n",
              "      <td>5</td>\n",
              "    </tr>\n",
              "    <tr>\n",
              "      <th>4</th>\n",
              "      <td>MLPClassifier(max_iter=1000)</td>\n",
              "      <td>0.806993</td>\n",
              "      <td>0.019900</td>\n",
              "      <td>6</td>\n",
              "    </tr>\n",
              "    <tr>\n",
              "      <th>2</th>\n",
              "      <td>RandomForestClassifier(n_jobs=-1)</td>\n",
              "      <td>0.806986</td>\n",
              "      <td>0.016898</td>\n",
              "      <td>7</td>\n",
              "    </tr>\n",
              "  </tbody>\n",
              "</table>\n",
              "</div>\n",
              "      <button class=\"colab-df-convert\" onclick=\"convertToInteractive('df-8eb2660f-dda7-4a17-aef2-a92c1443db4d')\"\n",
              "              title=\"Convert this dataframe to an interactive table.\"\n",
              "              style=\"display:none;\">\n",
              "        \n",
              "  <svg xmlns=\"http://www.w3.org/2000/svg\" height=\"24px\"viewBox=\"0 0 24 24\"\n",
              "       width=\"24px\">\n",
              "    <path d=\"M0 0h24v24H0V0z\" fill=\"none\"/>\n",
              "    <path d=\"M18.56 5.44l.94 2.06.94-2.06 2.06-.94-2.06-.94-.94-2.06-.94 2.06-2.06.94zm-11 1L8.5 8.5l.94-2.06 2.06-.94-2.06-.94L8.5 2.5l-.94 2.06-2.06.94zm10 10l.94 2.06.94-2.06 2.06-.94-2.06-.94-.94-2.06-.94 2.06-2.06.94z\"/><path d=\"M17.41 7.96l-1.37-1.37c-.4-.4-.92-.59-1.43-.59-.52 0-1.04.2-1.43.59L10.3 9.45l-7.72 7.72c-.78.78-.78 2.05 0 2.83L4 21.41c.39.39.9.59 1.41.59.51 0 1.02-.2 1.41-.59l7.78-7.78 2.81-2.81c.8-.78.8-2.07 0-2.86zM5.41 20L4 18.59l7.72-7.72 1.47 1.35L5.41 20z\"/>\n",
              "  </svg>\n",
              "      </button>\n",
              "      \n",
              "  <style>\n",
              "    .colab-df-container {\n",
              "      display:flex;\n",
              "      flex-wrap:wrap;\n",
              "      gap: 12px;\n",
              "    }\n",
              "\n",
              "    .colab-df-convert {\n",
              "      background-color: #E8F0FE;\n",
              "      border: none;\n",
              "      border-radius: 50%;\n",
              "      cursor: pointer;\n",
              "      display: none;\n",
              "      fill: #1967D2;\n",
              "      height: 32px;\n",
              "      padding: 0 0 0 0;\n",
              "      width: 32px;\n",
              "    }\n",
              "\n",
              "    .colab-df-convert:hover {\n",
              "      background-color: #E2EBFA;\n",
              "      box-shadow: 0px 1px 2px rgba(60, 64, 67, 0.3), 0px 1px 3px 1px rgba(60, 64, 67, 0.15);\n",
              "      fill: #174EA6;\n",
              "    }\n",
              "\n",
              "    [theme=dark] .colab-df-convert {\n",
              "      background-color: #3B4455;\n",
              "      fill: #D2E3FC;\n",
              "    }\n",
              "\n",
              "    [theme=dark] .colab-df-convert:hover {\n",
              "      background-color: #434B5C;\n",
              "      box-shadow: 0px 1px 3px 1px rgba(0, 0, 0, 0.15);\n",
              "      filter: drop-shadow(0px 1px 2px rgba(0, 0, 0, 0.3));\n",
              "      fill: #FFFFFF;\n",
              "    }\n",
              "  </style>\n",
              "\n",
              "      <script>\n",
              "        const buttonEl =\n",
              "          document.querySelector('#df-8eb2660f-dda7-4a17-aef2-a92c1443db4d button.colab-df-convert');\n",
              "        buttonEl.style.display =\n",
              "          google.colab.kernel.accessAllowed ? 'block' : 'none';\n",
              "\n",
              "        async function convertToInteractive(key) {\n",
              "          const element = document.querySelector('#df-8eb2660f-dda7-4a17-aef2-a92c1443db4d');\n",
              "          const dataTable =\n",
              "            await google.colab.kernel.invokeFunction('convertToInteractive',\n",
              "                                                     [key], {});\n",
              "          if (!dataTable) return;\n",
              "\n",
              "          const docLinkHtml = 'Like what you see? Visit the ' +\n",
              "            '<a target=\"_blank\" href=https://colab.research.google.com/notebooks/data_table.ipynb>data table notebook</a>'\n",
              "            + ' to learn more about interactive tables.';\n",
              "          element.innerHTML = '';\n",
              "          dataTable['output_type'] = 'display_data';\n",
              "          await google.colab.output.renderOutput(dataTable, element);\n",
              "          const docLink = document.createElement('div');\n",
              "          docLink.innerHTML = docLinkHtml;\n",
              "          element.appendChild(docLink);\n",
              "        }\n",
              "      </script>\n",
              "    </div>\n",
              "  </div>\n",
              "  "
            ]
          },
          "metadata": {},
          "execution_count": 108
        }
      ]
    },
    {
      "cell_type": "code",
      "source": [
        "results.param_classifier=results.param_classifier.astype('str')"
      ],
      "metadata": {
        "id": "8pUEsF_LHyjE"
      },
      "execution_count": 109,
      "outputs": []
    },
    {
      "cell_type": "code",
      "source": [
        "plt.figure(figsize=(12,6))\n",
        "results['classifier']=results.param_classifier.str.extract('([A-Za-z]+)\\(')\n",
        "sns.barplot(x='mean_test_score',y='classifier',data=results)\n",
        "plt.show()"
      ],
      "metadata": {
        "colab": {
          "base_uri": "https://localhost:8080/",
          "height": 388
        },
        "id": "obqYBUvoY3fF",
        "outputId": "4fdc63db-50cf-4c13-a5f1-c3c69d793773"
      },
      "execution_count": 123,
      "outputs": [
        {
          "output_type": "display_data",
          "data": {
            "text/plain": [
              "<Figure size 864x432 with 1 Axes>"
            ],
            "image/png": "[encoded data removed]"
          },
          "metadata": {}
        }
      ]
    },
    {
      "cell_type": "code",
      "source": [
        "grid.best_score_"
      ],
      "metadata": {
        "colab": {
          "base_uri": "https://localhost:8080/"
        },
        "id": "cU8hE-71b6_c",
        "outputId": "37653271-3480-426f-dbba-b480638ffc7a"
      },
      "execution_count": 125,
      "outputs": [
        {
          "output_type": "execute_result",
          "data": {
            "text/plain": [
              "0.8339087314041805"
            ]
          },
          "metadata": {},
          "execution_count": 125
        }
      ]
    },
    {
      "cell_type": "markdown",
      "source": [
        "The XGBClassifier is best model with 83.3% accuracy so we choose it to be our model. Then we need to adjust it's parameter by performing hyper parameter tunning\n"
      ],
      "metadata": {
        "id": "wDCnfW0MbymV"
      }
    },
    {
      "cell_type": "markdown",
      "source": [
        "## 5.5 Hyper Parameter Tunning"
      ],
      "metadata": {
        "id": "Usb34BA3gm-U"
      }
    },
    {
      "cell_type": "code",
      "source": [
        "pipe=Pipeline(\n",
        "    [('processor',ct),('XGBC',clf5)]\n",
        ")"
      ],
      "metadata": {
        "id": "1w84ITijh0P8"
      },
      "execution_count": 128,
      "outputs": []
    },
    {
      "cell_type": "code",
      "source": [
        "pipe.get_params()"
      ],
      "metadata": {
        "colab": {
          "base_uri": "https://localhost:8080/"
        },
        "id": "-ZFbObrGh3Q6",
        "outputId": "e7b659b2-814d-4e4e-8f4b-4a8ead779ad7"
      },
      "execution_count": 132,
      "outputs": [
        {
          "output_type": "execute_result",
          "data": {
            "text/plain": [
              "{'memory': None,\n",
              " 'steps': [('processor',\n",
              "   ColumnTransformer(transformers=[('ohe', OneHotEncoder(),\n",
              "                                    ['Sex', 'Embarked', 'Title']),\n",
              "                                   ('scaler', StandardScaler(),\n",
              "                                    ['Pclass', 'Age', 'Fare', 'Relative'])])),\n",
              "  ('XGBC', XGBClassifier())],\n",
              " 'verbose': False,\n",
              " 'processor': ColumnTransformer(transformers=[('ohe', OneHotEncoder(),\n",
              "                                  ['Sex', 'Embarked', 'Title']),\n",
              "                                 ('scaler', StandardScaler(),\n",
              "                                  ['Pclass', 'Age', 'Fare', 'Relative'])]),\n",
              " 'XGBC': XGBClassifier(),\n",
              " 'processor__n_jobs': None,\n",
              " 'processor__remainder': 'drop',\n",
              " 'processor__sparse_threshold': 0.3,\n",
              " 'processor__transformer_weights': None,\n",
              " 'processor__transformers': [('ohe',\n",
              "   OneHotEncoder(),\n",
              "   ['Sex', 'Embarked', 'Title']),\n",
              "  ('scaler', StandardScaler(), ['Pclass', 'Age', 'Fare', 'Relative'])],\n",
              " 'processor__verbose': False,\n",
              " 'processor__verbose_feature_names_out': True,\n",
              " 'processor__ohe': OneHotEncoder(),\n",
              " 'processor__scaler': StandardScaler(),\n",
              " 'processor__ohe__categories': 'auto',\n",
              " 'processor__ohe__drop': None,\n",
              " 'processor__ohe__dtype': numpy.float64,\n",
              " 'processor__ohe__handle_unknown': 'error',\n",
              " 'processor__ohe__sparse': True,\n",
              " 'processor__scaler__copy': True,\n",
              " 'processor__scaler__with_mean': True,\n",
              " 'processor__scaler__with_std': True,\n",
              " 'XGBC__base_score': 0.5,\n",
              " 'XGBC__booster': 'gbtree',\n",
              " 'XGBC__colsample_bylevel': 1,\n",
              " 'XGBC__colsample_bynode': 1,\n",
              " 'XGBC__colsample_bytree': 1,\n",
              " 'XGBC__gamma': 0,\n",
              " 'XGBC__learning_rate': 0.1,\n",
              " 'XGBC__max_delta_step': 0,\n",
              " 'XGBC__max_depth': 3,\n",
              " 'XGBC__min_child_weight': 1,\n",
              " 'XGBC__missing': None,\n",
              " 'XGBC__n_estimators': 100,\n",
              " 'XGBC__n_jobs': 1,\n",
              " 'XGBC__nthread': None,\n",
              " 'XGBC__objective': 'binary:logistic',\n",
              " 'XGBC__random_state': 0,\n",
              " 'XGBC__reg_alpha': 0,\n",
              " 'XGBC__reg_lambda': 1,\n",
              " 'XGBC__scale_pos_weight': 1,\n",
              " 'XGBC__seed': None,\n",
              " 'XGBC__silent': None,\n",
              " 'XGBC__subsample': 1,\n",
              " 'XGBC__verbosity': 1}"
            ]
          },
          "metadata": {},
          "execution_count": 132
        }
      ]
    },
    {
      "cell_type": "code",
      "source": [
        "\n",
        "\n",
        "params={\n",
        "    'XGBC__learning_rate': [0.01, 0.6],\n",
        "    'XGBC__subsample': [0.3, 0.9],\n",
        "    'XGBC__max_depth': [3, 4, 5, 6, 7, 8, 9],\n",
        "    'XGBC__colsample_bytree': [0.5, 0.9],\n",
        "    'XGBC__min_child_weight': [1, 2, 3, 4]\n",
        "}\n",
        "\n",
        "grid=GridSearchCV(pipe,params,n_jobs=-1)\n",
        "grid.fit(X_train,y_train)"
      ],
      "metadata": {
        "colab": {
          "base_uri": "https://localhost:8080/"
        },
        "id": "yAFBCZXggh3v",
        "outputId": "a0e4e161-af8e-45c6-fe36-71f9aab3f03f"
      },
      "execution_count": 134,
      "outputs": [
        {
          "output_type": "execute_result",
          "data": {
            "text/plain": [
              "GridSearchCV(estimator=Pipeline(steps=[('processor',\n",
              "                                        ColumnTransformer(transformers=[('ohe',\n",
              "                                                                         OneHotEncoder(),\n",
              "                                                                         ['Sex',\n",
              "                                                                          'Embarked',\n",
              "                                                                          'Title']),\n",
              "                                                                        ('scaler',\n",
              "                                                                         StandardScaler(),\n",
              "                                                                         ['Pclass',\n",
              "                                                                          'Age',\n",
              "                                                                          'Fare',\n",
              "                                                                          'Relative'])])),\n",
              "                                       ('XGBC', XGBClassifier())]),\n",
              "             n_jobs=-1,\n",
              "             param_grid={'XGBC__colsample_bytree': [0.5, 0.9],\n",
              "                         'XGBC__learning_rate': [0.01, 0.6],\n",
              "                         'XGBC__max_depth': [3, 4, 5, 6, 7, 8, 9],\n",
              "                         'XGBC__min_child_weight': [1, 2, 3, 4],\n",
              "                         'XGBC__subsample': [0.3, 0.9]})"
            ]
          },
          "metadata": {},
          "execution_count": 134
        }
      ]
    },
    {
      "cell_type": "code",
      "source": [
        "grid.best_params_"
      ],
      "metadata": {
        "colab": {
          "base_uri": "https://localhost:8080/"
        },
        "id": "DpWiAdB8iof2",
        "outputId": "dc1daa67-905b-461b-c820-f650720299bf"
      },
      "execution_count": 139,
      "outputs": [
        {
          "output_type": "execute_result",
          "data": {
            "text/plain": [
              "{'XGBC__colsample_bytree': 0.9,\n",
              " 'XGBC__learning_rate': 0.6,\n",
              " 'XGBC__max_depth': 3,\n",
              " 'XGBC__min_child_weight': 4,\n",
              " 'XGBC__subsample': 0.9}"
            ]
          },
          "metadata": {},
          "execution_count": 139
        }
      ]
    },
    {
      "cell_type": "markdown",
      "source": [
        "# 6 Model Evaluation"
      ],
      "metadata": {
        "id": "PBjTYEaDjNVw"
      }
    },
    {
      "cell_type": "code",
      "source": [
        "print(f'Accuracy Score CV:{grid.best_score_}')\n"
      ],
      "metadata": {
        "colab": {
          "base_uri": "https://localhost:8080/"
        },
        "id": "HGhLjNX-jTMo",
        "outputId": "c517c8e1-caa9-435b-97e8-787d2d2e41f6"
      },
      "execution_count": 147,
      "outputs": [
        {
          "output_type": "stream",
          "name": "stdout",
          "text": [
            "Accuracy Score CV:0.8473793233318686\n"
          ]
        }
      ]
    },
    {
      "cell_type": "code",
      "source": [
        "y_pred=grid.predict(X_test)\n",
        "y_pred"
      ],
      "metadata": {
        "colab": {
          "base_uri": "https://localhost:8080/"
        },
        "id": "YSGiT04TlrOE",
        "outputId": "b75d6e6e-15f2-4687-e74c-f28cc39c157b"
      },
      "execution_count": 152,
      "outputs": [
        {
          "output_type": "execute_result",
          "data": {
            "text/plain": [
              "array([0, 0, 0, 0, 1, 0, 0, 0, 1, 0, 0, 0, 1, 0, 1, 1, 0, 0, 0, 1, 0, 1,\n",
              "       1, 1, 1, 0, 1, 0, 1, 0, 0, 1, 1, 1, 1, 0, 0, 0, 0, 1, 0, 1, 0, 1,\n",
              "       1, 0, 0, 0, 1, 1, 0, 0, 1, 1, 0, 0, 0, 0, 0, 1, 0, 0, 0, 1, 1, 1,\n",
              "       1, 0, 0, 1, 1, 0, 1, 0, 1, 1, 0, 1, 0, 1, 1, 0, 0, 0, 0, 0, 1, 1,\n",
              "       1, 1, 1, 0, 1, 0, 1, 0, 1, 1, 0, 0, 1, 0, 0, 0, 1, 0, 0, 0, 0, 0,\n",
              "       0, 1, 1, 1, 1, 0, 0, 1, 1, 1, 1, 0, 1, 0, 0, 1, 0, 1, 0, 0, 0, 0,\n",
              "       0, 0, 0, 0, 1, 0, 0, 0, 0, 1, 0, 0, 1, 0, 0, 0, 1, 0, 1, 0, 0, 1,\n",
              "       0, 0, 1, 0, 1, 0, 1, 1, 1, 0, 0, 0, 0, 0, 1, 0, 0, 1, 0, 0, 0, 1,\n",
              "       1, 0, 1, 1, 0, 1, 1, 0, 1, 0, 1, 1, 0, 0, 0, 0, 0, 0, 1, 0, 1, 1,\n",
              "       0, 1, 1, 1, 0, 1, 0, 0, 0, 0, 1, 0, 0, 0, 0, 1, 0, 0, 1, 0, 1, 0,\n",
              "       1, 0, 1, 0, 1, 0, 0, 1, 0, 0, 0, 1, 0, 0, 0, 0, 0, 0, 1, 1, 1, 1,\n",
              "       0, 0, 1, 0, 1, 0, 1, 0, 1, 0, 1, 0, 0, 0, 0, 0, 1, 0, 0, 0, 1, 1,\n",
              "       0, 0, 0, 0, 0, 0, 0, 0, 1, 1, 0, 1, 0, 0, 0, 0, 0, 1, 1, 0, 1, 0,\n",
              "       0, 0, 0, 0, 0, 0, 0, 1, 0, 0, 1, 0, 0, 0, 0, 0, 0, 0, 1, 1, 0, 1,\n",
              "       0, 0, 0, 0, 0, 0, 1, 1, 0, 0, 1, 1, 0, 0, 0, 1, 1, 0, 1, 0, 0, 0,\n",
              "       1, 0, 0, 1, 0, 0, 0, 0, 0, 1, 0, 0, 0, 1, 1, 1, 0, 1, 0, 1, 1, 0,\n",
              "       0, 0, 1, 0, 1, 0, 0, 0, 0, 1, 1, 0, 1, 1, 0, 0, 1, 1, 0, 1, 0, 0,\n",
              "       1, 1, 0, 0, 0, 1, 0, 1, 1, 1, 0, 1, 0, 0, 0, 0, 0, 1, 1, 0, 0, 1,\n",
              "       0, 1, 0, 0, 1, 0, 1, 0, 0, 0, 0, 0, 1, 1, 1, 1, 0, 0, 1, 0, 0, 1])"
            ]
          },
          "metadata": {},
          "execution_count": 152
        }
      ]
    },
    {
      "cell_type": "markdown",
      "source": [
        "The model performance increases from 83.3% to 84.7% which is good."
      ],
      "metadata": {
        "id": "tJHchbVekm8u"
      }
    },
    {
      "cell_type": "markdown",
      "source": [
        "# 7 Submit as .csv File\n"
      ],
      "metadata": {
        "id": "lgjIF0Usk5o-"
      }
    },
    {
      "cell_type": "code",
      "source": [
        "submission=pd.read_csv('/content/drive/MyDrive/Datasets/titanic/gender_submission.csv')\n",
        "submission.Survived=y_pred\n",
        "submission.to_csv('/content/drive/MyDrive/Datasets/titanic/submission.csv')\n"
      ],
      "metadata": {
        "id": "ReZ66uoFlDMf"
      },
      "execution_count": 155,
      "outputs": []
    },
    {
      "cell_type": "markdown",
      "source": [
        "# 8 Future Works\n",
        "This project didn't perform Imbalance Data Checking in Feature Engineering so hopefully in the future research will perform Imbalance Data Checking. All feedbacks are welcome.\n"
      ],
      "metadata": {
        "id": "IorcmtWooix7"
      }
    }
  ]
}